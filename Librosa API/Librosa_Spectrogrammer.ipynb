{
 "cells": [
  {
   "cell_type": "markdown",
   "id": "6bb327ef-1e31-41a7-8073-9e516adf4cfc",
   "metadata": {},
   "source": [
    "# Librosa API\n",
    "#### Objective\n",
    "4. Build librosa class\n",
    "    * Convert each preview in /data/audio to spectogram\n",
    "    * Add spectograms to subfolder /data/spectograms\n",
    "    * Create final dataframe (like with audio file conversion) that contains spectrogram paths\n",
    "    "
   ]
  },
  {
   "cell_type": "code",
   "execution_count": 1,
   "id": "8896623e-e63c-41ab-b93c-20f77e37420c",
   "metadata": {},
   "outputs": [],
   "source": [
    "import sys\n",
    "sys.path.append('../')\n",
    "import os\n",
    "import matplotlib.pyplot as plt\n",
    "\n",
    "#for loading and visualizing audio files\n",
    "import librosa\n",
    "import librosa.display\n",
    "\n",
    "#To load csvs and adjust arrays\n",
    "import pandas as pd\n",
    "import numpy as np\n",
    "from tqdm import tqdm\n",
    "import re"
   ]
  },
  {
   "cell_type": "code",
   "execution_count": 2,
   "id": "aa107d6b-bc0d-44c6-8b99-7710ac83bbf1",
   "metadata": {},
   "outputs": [
    {
     "data": {
      "text/html": [
       "<div>\n",
       "<style scoped>\n",
       "    .dataframe tbody tr th:only-of-type {\n",
       "        vertical-align: middle;\n",
       "    }\n",
       "\n",
       "    .dataframe tbody tr th {\n",
       "        vertical-align: top;\n",
       "    }\n",
       "\n",
       "    .dataframe thead th {\n",
       "        text-align: right;\n",
       "    }\n",
       "</style>\n",
       "<table border=\"1\" class=\"dataframe\">\n",
       "  <thead>\n",
       "    <tr style=\"text-align: right;\">\n",
       "      <th></th>\n",
       "      <th>track_name</th>\n",
       "      <th>artist</th>\n",
       "      <th>album</th>\n",
       "      <th>track_url</th>\n",
       "      <th>preview_url</th>\n",
       "      <th>artist_url</th>\n",
       "      <th>genres</th>\n",
       "      <th>file_location</th>\n",
       "    </tr>\n",
       "  </thead>\n",
       "  <tbody>\n",
       "    <tr>\n",
       "      <th>0</th>\n",
       "      <td>Guillotine</td>\n",
       "      <td>Stray From The Path</td>\n",
       "      <td>Guillotine</td>\n",
       "      <td>https://api.spotify.com/v1/tracks/5mWs0zabZrRE...</td>\n",
       "      <td>https://p.scdn.co/mp3-preview/dbd5861d09ee540c...</td>\n",
       "      <td>https://api.spotify.com/v1/artists/5tGG1slV9pk...</td>\n",
       "      <td>['deathcore', 'long island punk', 'melodic har...</td>\n",
       "      <td>../data/audio/Guillotine-Stray From The Path.wav</td>\n",
       "    </tr>\n",
       "    <tr>\n",
       "      <th>1</th>\n",
       "      <td>Vermin</td>\n",
       "      <td>Allegaeon</td>\n",
       "      <td>DAMNUM</td>\n",
       "      <td>https://api.spotify.com/v1/tracks/6FDLIsQnjDx5...</td>\n",
       "      <td>https://p.scdn.co/mp3-preview/7d8fba2941244a72...</td>\n",
       "      <td>https://api.spotify.com/v1/artists/5NIvyOvy39l...</td>\n",
       "      <td>['american melodeath', 'denver metal', 'melodi...</td>\n",
       "      <td>../data/audio/Vermin-Allegaeon.wav</td>\n",
       "    </tr>\n",
       "    <tr>\n",
       "      <th>2</th>\n",
       "      <td>Put Your Back Into The Oar</td>\n",
       "      <td>Amon Amarth</td>\n",
       "      <td>Put Your Back Into The Oar</td>\n",
       "      <td>https://api.spotify.com/v1/tracks/4fY2JR0REUiy...</td>\n",
       "      <td>https://p.scdn.co/mp3-preview/d2253d713457b378...</td>\n",
       "      <td>https://api.spotify.com/v1/artists/3pulcT2wt7F...</td>\n",
       "      <td>['death metal', 'melodic death metal', 'metal'...</td>\n",
       "      <td>../data/audio/Put Your Back Into The Oar-Amon ...</td>\n",
       "    </tr>\n",
       "    <tr>\n",
       "      <th>3</th>\n",
       "      <td>Make Believe</td>\n",
       "      <td>Memphis May Fire</td>\n",
       "      <td>Make Believe</td>\n",
       "      <td>https://api.spotify.com/v1/tracks/5NLi9YVXt9pM...</td>\n",
       "      <td>https://p.scdn.co/mp3-preview/50d174c4df0bdff7...</td>\n",
       "      <td>https://api.spotify.com/v1/artists/7cNNNhdJDrt...</td>\n",
       "      <td>['melodic metalcore', 'metalcore', 'post-screa...</td>\n",
       "      <td>../data/audio/Make Believe-Memphis May Fire.wav</td>\n",
       "    </tr>\n",
       "    <tr>\n",
       "      <th>4</th>\n",
       "      <td>Dystopia (feat. Christoph Wieczorek of Annisokay)</td>\n",
       "      <td>Caliban</td>\n",
       "      <td>Dystopia (feat. Christoph Wieczorek of Annisokay)</td>\n",
       "      <td>https://api.spotify.com/v1/tracks/2WaaniEgnI8p...</td>\n",
       "      <td>https://p.scdn.co/mp3-preview/927ee1c9965680c1...</td>\n",
       "      <td>https://api.spotify.com/v1/artists/1oeo6cC9Fqa...</td>\n",
       "      <td>['deathcore', 'german metalcore', 'german post...</td>\n",
       "      <td>../data/audio/Dystopia feat Christoph Wieczore...</td>\n",
       "    </tr>\n",
       "  </tbody>\n",
       "</table>\n",
       "</div>"
      ],
      "text/plain": [
       "                                          track_name               artist  \\\n",
       "0                                         Guillotine  Stray From The Path   \n",
       "1                                             Vermin            Allegaeon   \n",
       "2                         Put Your Back Into The Oar          Amon Amarth   \n",
       "3                                       Make Believe     Memphis May Fire   \n",
       "4  Dystopia (feat. Christoph Wieczorek of Annisokay)              Caliban   \n",
       "\n",
       "                                               album  \\\n",
       "0                                         Guillotine   \n",
       "1                                             DAMNUM   \n",
       "2                         Put Your Back Into The Oar   \n",
       "3                                       Make Believe   \n",
       "4  Dystopia (feat. Christoph Wieczorek of Annisokay)   \n",
       "\n",
       "                                           track_url  \\\n",
       "0  https://api.spotify.com/v1/tracks/5mWs0zabZrRE...   \n",
       "1  https://api.spotify.com/v1/tracks/6FDLIsQnjDx5...   \n",
       "2  https://api.spotify.com/v1/tracks/4fY2JR0REUiy...   \n",
       "3  https://api.spotify.com/v1/tracks/5NLi9YVXt9pM...   \n",
       "4  https://api.spotify.com/v1/tracks/2WaaniEgnI8p...   \n",
       "\n",
       "                                         preview_url  \\\n",
       "0  https://p.scdn.co/mp3-preview/dbd5861d09ee540c...   \n",
       "1  https://p.scdn.co/mp3-preview/7d8fba2941244a72...   \n",
       "2  https://p.scdn.co/mp3-preview/d2253d713457b378...   \n",
       "3  https://p.scdn.co/mp3-preview/50d174c4df0bdff7...   \n",
       "4  https://p.scdn.co/mp3-preview/927ee1c9965680c1...   \n",
       "\n",
       "                                          artist_url  \\\n",
       "0  https://api.spotify.com/v1/artists/5tGG1slV9pk...   \n",
       "1  https://api.spotify.com/v1/artists/5NIvyOvy39l...   \n",
       "2  https://api.spotify.com/v1/artists/3pulcT2wt7F...   \n",
       "3  https://api.spotify.com/v1/artists/7cNNNhdJDrt...   \n",
       "4  https://api.spotify.com/v1/artists/1oeo6cC9Fqa...   \n",
       "\n",
       "                                              genres  \\\n",
       "0  ['deathcore', 'long island punk', 'melodic har...   \n",
       "1  ['american melodeath', 'denver metal', 'melodi...   \n",
       "2  ['death metal', 'melodic death metal', 'metal'...   \n",
       "3  ['melodic metalcore', 'metalcore', 'post-screa...   \n",
       "4  ['deathcore', 'german metalcore', 'german post...   \n",
       "\n",
       "                                       file_location  \n",
       "0   ../data/audio/Guillotine-Stray From The Path.wav  \n",
       "1                 ../data/audio/Vermin-Allegaeon.wav  \n",
       "2  ../data/audio/Put Your Back Into The Oar-Amon ...  \n",
       "3    ../data/audio/Make Believe-Memphis May Fire.wav  \n",
       "4  ../data/audio/Dystopia feat Christoph Wieczore...  "
      ]
     },
     "execution_count": 2,
     "metadata": {},
     "output_type": "execute_result"
    }
   ],
   "source": [
    "data = pd.read_csv('../data/tracklist_mp3link.csv', sep=\";\")\n",
    "data.head()"
   ]
  },
  {
   "cell_type": "code",
   "execution_count": 3,
   "id": "65bcbefd-1eab-4e5a-a623-5f714458faee",
   "metadata": {},
   "outputs": [
    {
     "data": {
      "text/plain": [
       "21"
      ]
     },
     "execution_count": 3,
     "metadata": {},
     "output_type": "execute_result"
    }
   ],
   "source": [
    "data.file_location.duplicated().sum()"
   ]
  },
  {
   "cell_type": "code",
   "execution_count": 4,
   "id": "f422601d-6b07-4add-b1e6-73c2a244a7c1",
   "metadata": {},
   "outputs": [
    {
     "data": {
      "text/plain": [
       "(710, 8)"
      ]
     },
     "execution_count": 4,
     "metadata": {},
     "output_type": "execute_result"
    }
   ],
   "source": [
    "data.shape"
   ]
  },
  {
   "cell_type": "code",
   "execution_count": 5,
   "id": "66033544-10ba-402e-9409-4ee5be4ce49f",
   "metadata": {},
   "outputs": [],
   "source": [
    "data.drop_duplicates(subset=['file_location'], inplace=True)"
   ]
  },
  {
   "cell_type": "code",
   "execution_count": 6,
   "id": "c3b916f9-1d7f-4768-99cf-7e7ae4065e88",
   "metadata": {},
   "outputs": [
    {
     "data": {
      "text/plain": [
       "(689, 8)"
      ]
     },
     "execution_count": 6,
     "metadata": {},
     "output_type": "execute_result"
    }
   ],
   "source": [
    "data.shape"
   ]
  },
  {
   "cell_type": "code",
   "execution_count": 7,
   "id": "9e7017d9-f21d-4883-a58c-e875208d2e68",
   "metadata": {},
   "outputs": [],
   "source": [
    "data.reset_index(drop=True, inplace=True)"
   ]
  },
  {
   "cell_type": "code",
   "execution_count": 8,
   "id": "42b55052-3500-4bbf-ba18-995f9f130d3a",
   "metadata": {},
   "outputs": [],
   "source": [
    "data['spectrogram'] = ''"
   ]
  },
  {
   "cell_type": "code",
   "execution_count": 14,
   "id": "aa753d99-8234-47c2-8773-140fee4b7d1b",
   "metadata": {},
   "outputs": [],
   "source": [
    "def make_spectrograms(df):\n",
    "    img_path = \"../data/images/spectrograms/\"\n",
    "    \n",
    "    for row in tqdm(range(len(df))):\n",
    "#         audio_path = df['file_location'][row]\n",
    "        track = df['track_name'][row]\n",
    "        artist = df['artist'][row]\n",
    "        spect = f\"{track}_{artist}_spectro.png\"\n",
    "\n",
    "        path = df['file_location'][row]\n",
    "        \n",
    "        x, sr = librosa.core.load(path, mono=True, offset=0.0, duration=29, res_type='kaiser_best')\n",
    "        \n",
    "        print(path)\n",
    "        # Convert waveform to spectrogram\n",
    "        X = librosa.stft(x)\n",
    "        Xdb = librosa.amplitude_to_db(abs(X))\n",
    "        plt.figure(figsize=(14, 5))\n",
    "        librosa.display.specshow(Xdb, sr=sr, x_axis='time', y_axis='hz')\n",
    "        plt.savefig(img_path+spect)\n",
    "        data.at[row, 'spectrogram'] = img_path+spect"
   ]
  },
  {
   "cell_type": "markdown",
   "id": "a66eaba3-682e-4f70-9d6e-28bb9885755e",
   "metadata": {},
   "source": [
    "# RUN ONLY ONCE\n",
    "make_spectrograms(data)"
   ]
  },
  {
   "cell_type": "code",
   "execution_count": 18,
   "id": "b1efbde6-6faf-413b-9857-8957c1bbb499",
   "metadata": {},
   "outputs": [],
   "source": [
    "data.to_csv(\"../data/tracklist_spectrograms.csv\", sep=\";\", index=False)"
   ]
  }
 ],
 "metadata": {
  "kernelspec": {
   "display_name": "Python 3 (ipykernel)",
   "language": "python",
   "name": "python3"
  },
  "language_info": {
   "codemirror_mode": {
    "name": "ipython",
    "version": 3
   },
   "file_extension": ".py",
   "mimetype": "text/x-python",
   "name": "python",
   "nbconvert_exporter": "python",
   "pygments_lexer": "ipython3",
   "version": "3.9.7"
  }
 },
 "nbformat": 4,
 "nbformat_minor": 5
}
