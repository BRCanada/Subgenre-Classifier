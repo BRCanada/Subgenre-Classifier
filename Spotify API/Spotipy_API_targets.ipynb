{
 "cells": [
  {
   "cell_type": "markdown",
   "id": "292e2e0e-349f-4ed9-befc-1d1654cf66ee",
   "metadata": {},
   "source": [
    "# Spotify API\n",
    "#### Objective\n",
    "3. Get Genre Data \n",
    "    * Import .csv as dataframe\n",
    "    * Iterate through 'href' Series\n",
    "        * Apply api request using href string \n",
    "        * append genre list to new 'genres' column in original df (these will be our predict_proba targets) "
   ]
  },
  {
   "cell_type": "code",
   "execution_count": 1,
   "id": "13e08c96-84ac-44de-af9d-2a9279ae4b95",
   "metadata": {},
   "outputs": [],
   "source": [
    "import sys\n",
    "sys.path.append('../')\n",
    "\n",
    "import os\n",
    "from os import environ"
   ]
  },
  {
   "cell_type": "code",
   "execution_count": 2,
   "id": "5d53a91d-f2f7-4862-927a-607e0a46233c",
   "metadata": {},
   "outputs": [],
   "source": [
    "from src.SpotipyAPI import *"
   ]
  },
  {
   "cell_type": "code",
   "execution_count": 3,
   "id": "39bcb4bf-6091-4766-8ae0-3997b26924e2",
   "metadata": {},
   "outputs": [],
   "source": [
    "client_id = os.getenv('SPOTIFY_CLIENT_ID')\n",
    "client_secret = os.environ.get('SPOTIFY_CLIENT_SECRET')"
   ]
  },
  {
   "cell_type": "code",
   "execution_count": 14,
   "id": "d3911fe4-84ed-473d-9a54-7d24a2d0c33e",
   "metadata": {},
   "outputs": [],
   "source": [
    "data = pd.read_csv(\"../data/playlist_data.csv\", sep=\";\")"
   ]
  },
  {
   "cell_type": "code",
   "execution_count": 15,
   "id": "5e94092c-75f4-446f-a9b8-bfb3a53c253b",
   "metadata": {},
   "outputs": [
    {
     "data": {
      "text/html": [
       "<div>\n",
       "<style scoped>\n",
       "    .dataframe tbody tr th:only-of-type {\n",
       "        vertical-align: middle;\n",
       "    }\n",
       "\n",
       "    .dataframe tbody tr th {\n",
       "        vertical-align: top;\n",
       "    }\n",
       "\n",
       "    .dataframe thead th {\n",
       "        text-align: right;\n",
       "    }\n",
       "</style>\n",
       "<table border=\"1\" class=\"dataframe\">\n",
       "  <thead>\n",
       "    <tr style=\"text-align: right;\">\n",
       "      <th></th>\n",
       "      <th>Unnamed: 0</th>\n",
       "      <th>track_name</th>\n",
       "      <th>artist</th>\n",
       "      <th>album</th>\n",
       "      <th>track_url</th>\n",
       "      <th>preview_url</th>\n",
       "      <th>artist_url</th>\n",
       "    </tr>\n",
       "  </thead>\n",
       "  <tbody>\n",
       "    <tr>\n",
       "      <th>0</th>\n",
       "      <td>0</td>\n",
       "      <td>Guillotine</td>\n",
       "      <td>Stray From The Path</td>\n",
       "      <td>Guillotine</td>\n",
       "      <td>https://api.spotify.com/v1/tracks/5mWs0zabZrRE...</td>\n",
       "      <td>https://p.scdn.co/mp3-preview/dbd5861d09ee540c...</td>\n",
       "      <td>https://api.spotify.com/v1/artists/5tGG1slV9pk...</td>\n",
       "    </tr>\n",
       "    <tr>\n",
       "      <th>1</th>\n",
       "      <td>1</td>\n",
       "      <td>Vermin</td>\n",
       "      <td>Allegaeon</td>\n",
       "      <td>DAMNUM</td>\n",
       "      <td>https://api.spotify.com/v1/tracks/6FDLIsQnjDx5...</td>\n",
       "      <td>https://p.scdn.co/mp3-preview/7d8fba2941244a72...</td>\n",
       "      <td>https://api.spotify.com/v1/artists/5NIvyOvy39l...</td>\n",
       "    </tr>\n",
       "    <tr>\n",
       "      <th>2</th>\n",
       "      <td>2</td>\n",
       "      <td>March of the Insane</td>\n",
       "      <td>Dream Widow</td>\n",
       "      <td>March of the Insane</td>\n",
       "      <td>https://api.spotify.com/v1/tracks/5Jn0Kw1DtNLF...</td>\n",
       "      <td>https://p.scdn.co/mp3-preview/ec869dc2ce3faece...</td>\n",
       "      <td>https://api.spotify.com/v1/artists/3gmJYDVdrlG...</td>\n",
       "    </tr>\n",
       "    <tr>\n",
       "      <th>3</th>\n",
       "      <td>3</td>\n",
       "      <td>Neurotic (feat. Lukas Rossi)</td>\n",
       "      <td>Three Days Grace</td>\n",
       "      <td>Neurotic (feat. Lukas Rossi)</td>\n",
       "      <td>https://api.spotify.com/v1/tracks/0lMYQaJNpyo4...</td>\n",
       "      <td>NaN</td>\n",
       "      <td>https://api.spotify.com/v1/artists/2xiIXseIJcq...</td>\n",
       "    </tr>\n",
       "    <tr>\n",
       "      <th>4</th>\n",
       "      <td>4</td>\n",
       "      <td>Put Your Back Into The Oar</td>\n",
       "      <td>Amon Amarth</td>\n",
       "      <td>Put Your Back Into The Oar</td>\n",
       "      <td>https://api.spotify.com/v1/tracks/4fY2JR0REUiy...</td>\n",
       "      <td>https://p.scdn.co/mp3-preview/d2253d713457b378...</td>\n",
       "      <td>https://api.spotify.com/v1/artists/3pulcT2wt7F...</td>\n",
       "    </tr>\n",
       "  </tbody>\n",
       "</table>\n",
       "</div>"
      ],
      "text/plain": [
       "   Unnamed: 0                    track_name               artist  \\\n",
       "0           0                    Guillotine  Stray From The Path   \n",
       "1           1                        Vermin            Allegaeon   \n",
       "2           2           March of the Insane          Dream Widow   \n",
       "3           3  Neurotic (feat. Lukas Rossi)     Three Days Grace   \n",
       "4           4    Put Your Back Into The Oar          Amon Amarth   \n",
       "\n",
       "                          album  \\\n",
       "0                    Guillotine   \n",
       "1                        DAMNUM   \n",
       "2           March of the Insane   \n",
       "3  Neurotic (feat. Lukas Rossi)   \n",
       "4    Put Your Back Into The Oar   \n",
       "\n",
       "                                           track_url  \\\n",
       "0  https://api.spotify.com/v1/tracks/5mWs0zabZrRE...   \n",
       "1  https://api.spotify.com/v1/tracks/6FDLIsQnjDx5...   \n",
       "2  https://api.spotify.com/v1/tracks/5Jn0Kw1DtNLF...   \n",
       "3  https://api.spotify.com/v1/tracks/0lMYQaJNpyo4...   \n",
       "4  https://api.spotify.com/v1/tracks/4fY2JR0REUiy...   \n",
       "\n",
       "                                         preview_url  \\\n",
       "0  https://p.scdn.co/mp3-preview/dbd5861d09ee540c...   \n",
       "1  https://p.scdn.co/mp3-preview/7d8fba2941244a72...   \n",
       "2  https://p.scdn.co/mp3-preview/ec869dc2ce3faece...   \n",
       "3                                                NaN   \n",
       "4  https://p.scdn.co/mp3-preview/d2253d713457b378...   \n",
       "\n",
       "                                          artist_url  \n",
       "0  https://api.spotify.com/v1/artists/5tGG1slV9pk...  \n",
       "1  https://api.spotify.com/v1/artists/5NIvyOvy39l...  \n",
       "2  https://api.spotify.com/v1/artists/3gmJYDVdrlG...  \n",
       "3  https://api.spotify.com/v1/artists/2xiIXseIJcq...  \n",
       "4  https://api.spotify.com/v1/artists/3pulcT2wt7F...  "
      ]
     },
     "execution_count": 15,
     "metadata": {},
     "output_type": "execute_result"
    }
   ],
   "source": [
    "data.head()"
   ]
  },
  {
   "cell_type": "code",
   "execution_count": 6,
   "id": "e95759a7-5e61-4aa8-82ed-4e4491b6ff4d",
   "metadata": {},
   "outputs": [],
   "source": [
    "spotify = SpotifyAPI(client_id, client_secret)"
   ]
  },
  {
   "cell_type": "code",
   "execution_count": 7,
   "id": "87baa081-9651-4443-8987-ed1d14838e54",
   "metadata": {},
   "outputs": [
    {
     "name": "stderr",
     "output_type": "stream",
     "text": [
      "100%|█████████████████████████████████████████| 982/982 [02:48<00:00,  5.82it/s]\n"
     ]
    }
   ],
   "source": [
    "genres = label_printer(data['artist_url'], spotify)"
   ]
  },
  {
   "cell_type": "code",
   "execution_count": 9,
   "id": "207efdaa-9621-4b07-982f-1fb8d9d02d67",
   "metadata": {
    "tags": []
   },
   "outputs": [],
   "source": [
    "genre_series = pd.Series(genres)"
   ]
  },
  {
   "cell_type": "code",
   "execution_count": 16,
   "id": "0aab40cf-bc94-4de3-a567-2c70bade27de",
   "metadata": {},
   "outputs": [],
   "source": [
    "data['genres'] = genre_series.values"
   ]
  },
  {
   "cell_type": "code",
   "execution_count": 19,
   "id": "3dc41463-1f39-47fa-9a58-faba74fc5ac3",
   "metadata": {},
   "outputs": [],
   "source": [
    "data.to_csv('../data/playlist_data.csv', sep = ';')"
   ]
  },
  {
   "cell_type": "code",
   "execution_count": null,
   "id": "75f6b695-479e-438b-b79b-04629478f644",
   "metadata": {},
   "outputs": [],
   "source": []
  },
  {
   "cell_type": "code",
   "execution_count": null,
   "id": "56ef7777-ab8f-4e8a-9cd8-55c969f7fe8e",
   "metadata": {},
   "outputs": [],
   "source": []
  }
 ],
 "metadata": {
  "kernelspec": {
   "display_name": "Python 3 (ipykernel)",
   "language": "python",
   "name": "python3"
  },
  "language_info": {
   "codemirror_mode": {
    "name": "ipython",
    "version": 3
   },
   "file_extension": ".py",
   "mimetype": "text/x-python",
   "name": "python",
   "nbconvert_exporter": "python",
   "pygments_lexer": "ipython3",
   "version": "3.9.7"
  }
 },
 "nbformat": 4,
 "nbformat_minor": 5
}
