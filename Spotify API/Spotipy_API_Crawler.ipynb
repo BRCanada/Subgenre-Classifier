{
 "cells": [
  {
   "cell_type": "markdown",
   "id": "37304eae-ccf2-48d0-9111-1284aa9e8252",
   "metadata": {
    "tags": []
   },
   "source": [
    "# Spotipy API\n",
    "\n",
    "#### Objective:\n",
    "\n",
    "1. Build function that takes URL and Header\n",
    "    * function must write necessary information to csv\n",
    "    * Important items:\n",
    "        1. ['track']['album']['artists']['name'] # Name of Artist\n",
    "        2. ['track']['album']['name']            # Name of Album\n",
    "        3. ['track']['name']                     # Name of Track\n",
    "        4. ['track']['href']                     # API url for track data pull\n",
    "        5. ['track']['preview_url']              # Preview mp3 link\n",
    "2. Have function check if response['next'] value is str\n",
    "    * if it is string, run the csv writing function with the ['next'] string as url\n",
    "    * if it is not string, break out of function loop"
   ]
  },
  {
   "cell_type": "code",
   "execution_count": 1,
   "id": "5d7e0207-da17-4a39-90c1-4ff64641d795",
   "metadata": {},
   "outputs": [],
   "source": [
    "import sys\n",
    "sys.path.append('../')\n",
    "\n",
    "import os\n",
    "from os import environ"
   ]
  },
  {
   "cell_type": "code",
   "execution_count": 2,
   "id": "d54f56de-0822-4f19-8d55-f39078eeb30c",
   "metadata": {},
   "outputs": [],
   "source": [
    "from src.SpotipyAPI import *"
   ]
  },
  {
   "cell_type": "code",
   "execution_count": 3,
   "id": "cccbf270-f1fe-4e37-9e11-347cab0487b1",
   "metadata": {},
   "outputs": [],
   "source": [
    "client_id = os.environ.get('SPOTIPY_CLIENT_ID')\n",
    "client_secret = os.environ.get('SPOTIPY_CLIENT_SECRET')"
   ]
  },
  {
   "cell_type": "markdown",
   "id": "d58ea9cf-171c-49a9-b421-65aa99b374df",
   "metadata": {},
   "source": [
    "#### Authorization Process"
   ]
  },
  {
   "cell_type": "code",
   "execution_count": 4,
   "id": "34185cf0-5577-4727-94e4-446c62e4a164",
   "metadata": {},
   "outputs": [],
   "source": [
    "# Initialize Class\n",
    "spotify = SpotifyAPI(client_id, client_secret)"
   ]
  },
  {
   "cell_type": "code",
   "execution_count": 5,
   "id": "2087b334-77c6-4efa-a6e9-a31b106b4be0",
   "metadata": {},
   "outputs": [
    {
     "name": "stdout",
     "output_type": "stream",
     "text": [
      "https://api.spotify.com/v1/playlists/5nwefLIo0pZGUQX8Qs9Xpx/tracks\n"
     ]
    }
   ],
   "source": [
    "# Initialize API URL\n",
    "URI = 'https://api.spotify.com/v1'\n",
    "\n",
    "playlist_id = '5nwefLIo0pZGUQX8Qs9Xpx' #Metalstars Public 2022 New Releases\n",
    "\n",
    "playlist_tracks = f'/playlists/{playlist_id}/tracks'\n",
    "\n",
    "url_main = URI+playlist_tracks\n",
    "print(url_main)"
   ]
  },
  {
   "cell_type": "code",
   "execution_count": 6,
   "id": "6b66176d-b4e3-48a6-acf9-cf1f8f9a0782",
   "metadata": {
    "tags": []
   },
   "outputs": [
    {
     "name": "stdout",
     "output_type": "stream",
     "text": [
      "Status Code:  200\n",
      "Status Code:  200\n",
      "Status Code:  200\n",
      "Status Code:  200\n",
      "Status Code:  200\n",
      "Status Code:  200\n",
      "Status Code:  200\n",
      "Status Code:  200\n",
      "Status Code:  200\n",
      "Status Code:  200\n"
     ]
    }
   ],
   "source": [
    "df = api_to_csv(url_main, spotify)"
   ]
  }
 ],
 "metadata": {
  "kernelspec": {
   "display_name": "Python 3 (ipykernel)",
   "language": "python",
   "name": "python3"
  },
  "language_info": {
   "codemirror_mode": {
    "name": "ipython",
    "version": 3
   },
   "file_extension": ".py",
   "mimetype": "text/x-python",
   "name": "python",
   "nbconvert_exporter": "python",
   "pygments_lexer": "ipython3",
   "version": "3.8.13"
  }
 },
 "nbformat": 4,
 "nbformat_minor": 5
}
