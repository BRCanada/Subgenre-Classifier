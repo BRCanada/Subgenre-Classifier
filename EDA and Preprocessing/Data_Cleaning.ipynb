{
 "cells": [
  {
   "cell_type": "markdown",
   "id": "6bb327ef-1e31-41a7-8073-9e516adf4cfc",
   "metadata": {
    "tags": []
   },
   "source": [
    "# Clean Dataset"
   ]
  },
  {
   "cell_type": "code",
   "execution_count": 7,
   "id": "276082b8-8b31-45bf-8194-5c131f8ce339",
   "metadata": {},
   "outputs": [],
   "source": [
    "import sys\n",
    "sys.path.append('../')"
   ]
  },
  {
   "cell_type": "code",
   "execution_count": 8,
   "id": "2a8da174-1090-4afa-9557-5c9fb1b177ed",
   "metadata": {},
   "outputs": [],
   "source": [
    "import pandas as pd\n",
    "import numpy as np"
   ]
  },
  {
   "cell_type": "code",
   "execution_count": 10,
   "id": "0dfab190-a397-4b2d-a2a1-1f2870a39e51",
   "metadata": {},
   "outputs": [],
   "source": [
    "data = pd.read_csv(\"../data/playlist_data.csv\", sep=\";\")"
   ]
  },
  {
   "cell_type": "code",
   "execution_count": 11,
   "id": "16e2873e-7cfa-447d-848d-f701e303daf9",
   "metadata": {},
   "outputs": [
    {
     "data": {
      "text/html": [
       "<div>\n",
       "<style scoped>\n",
       "    .dataframe tbody tr th:only-of-type {\n",
       "        vertical-align: middle;\n",
       "    }\n",
       "\n",
       "    .dataframe tbody tr th {\n",
       "        vertical-align: top;\n",
       "    }\n",
       "\n",
       "    .dataframe thead th {\n",
       "        text-align: right;\n",
       "    }\n",
       "</style>\n",
       "<table border=\"1\" class=\"dataframe\">\n",
       "  <thead>\n",
       "    <tr style=\"text-align: right;\">\n",
       "      <th></th>\n",
       "      <th>track_name</th>\n",
       "      <th>artist</th>\n",
       "      <th>album</th>\n",
       "      <th>track_url</th>\n",
       "      <th>preview_url</th>\n",
       "      <th>artist_url</th>\n",
       "      <th>genres</th>\n",
       "    </tr>\n",
       "  </thead>\n",
       "  <tbody>\n",
       "    <tr>\n",
       "      <th>0</th>\n",
       "      <td>Guillotine</td>\n",
       "      <td>Stray From The Path</td>\n",
       "      <td>Guillotine</td>\n",
       "      <td>https://api.spotify.com/v1/tracks/5mWs0zabZrRE...</td>\n",
       "      <td>https://p.scdn.co/mp3-preview/dbd5861d09ee540c...</td>\n",
       "      <td>https://api.spotify.com/v1/artists/5tGG1slV9pk...</td>\n",
       "      <td>['deathcore', 'long island punk', 'melodic har...</td>\n",
       "    </tr>\n",
       "    <tr>\n",
       "      <th>1</th>\n",
       "      <td>Vermin</td>\n",
       "      <td>Allegaeon</td>\n",
       "      <td>DAMNUM</td>\n",
       "      <td>https://api.spotify.com/v1/tracks/6FDLIsQnjDx5...</td>\n",
       "      <td>https://p.scdn.co/mp3-preview/7d8fba2941244a72...</td>\n",
       "      <td>https://api.spotify.com/v1/artists/5NIvyOvy39l...</td>\n",
       "      <td>['american melodeath', 'denver metal', 'melodi...</td>\n",
       "    </tr>\n",
       "    <tr>\n",
       "      <th>2</th>\n",
       "      <td>March of the Insane</td>\n",
       "      <td>Dream Widow</td>\n",
       "      <td>March of the Insane</td>\n",
       "      <td>https://api.spotify.com/v1/tracks/5Jn0Kw1DtNLF...</td>\n",
       "      <td>https://p.scdn.co/mp3-preview/ec869dc2ce3faece...</td>\n",
       "      <td>https://api.spotify.com/v1/artists/3gmJYDVdrlG...</td>\n",
       "      <td>[]</td>\n",
       "    </tr>\n",
       "    <tr>\n",
       "      <th>3</th>\n",
       "      <td>Neurotic (feat. Lukas Rossi)</td>\n",
       "      <td>Three Days Grace</td>\n",
       "      <td>Neurotic (feat. Lukas Rossi)</td>\n",
       "      <td>https://api.spotify.com/v1/tracks/0lMYQaJNpyo4...</td>\n",
       "      <td>NaN</td>\n",
       "      <td>https://api.spotify.com/v1/artists/2xiIXseIJcq...</td>\n",
       "      <td>['alternative metal', 'canadian metal', 'canad...</td>\n",
       "    </tr>\n",
       "    <tr>\n",
       "      <th>4</th>\n",
       "      <td>Put Your Back Into The Oar</td>\n",
       "      <td>Amon Amarth</td>\n",
       "      <td>Put Your Back Into The Oar</td>\n",
       "      <td>https://api.spotify.com/v1/tracks/4fY2JR0REUiy...</td>\n",
       "      <td>https://p.scdn.co/mp3-preview/d2253d713457b378...</td>\n",
       "      <td>https://api.spotify.com/v1/artists/3pulcT2wt7F...</td>\n",
       "      <td>['death metal', 'melodic death metal', 'metal'...</td>\n",
       "    </tr>\n",
       "  </tbody>\n",
       "</table>\n",
       "</div>"
      ],
      "text/plain": [
       "                     track_name               artist  \\\n",
       "0                    Guillotine  Stray From The Path   \n",
       "1                        Vermin            Allegaeon   \n",
       "2           March of the Insane          Dream Widow   \n",
       "3  Neurotic (feat. Lukas Rossi)     Three Days Grace   \n",
       "4    Put Your Back Into The Oar          Amon Amarth   \n",
       "\n",
       "                          album  \\\n",
       "0                    Guillotine   \n",
       "1                        DAMNUM   \n",
       "2           March of the Insane   \n",
       "3  Neurotic (feat. Lukas Rossi)   \n",
       "4    Put Your Back Into The Oar   \n",
       "\n",
       "                                           track_url  \\\n",
       "0  https://api.spotify.com/v1/tracks/5mWs0zabZrRE...   \n",
       "1  https://api.spotify.com/v1/tracks/6FDLIsQnjDx5...   \n",
       "2  https://api.spotify.com/v1/tracks/5Jn0Kw1DtNLF...   \n",
       "3  https://api.spotify.com/v1/tracks/0lMYQaJNpyo4...   \n",
       "4  https://api.spotify.com/v1/tracks/4fY2JR0REUiy...   \n",
       "\n",
       "                                         preview_url  \\\n",
       "0  https://p.scdn.co/mp3-preview/dbd5861d09ee540c...   \n",
       "1  https://p.scdn.co/mp3-preview/7d8fba2941244a72...   \n",
       "2  https://p.scdn.co/mp3-preview/ec869dc2ce3faece...   \n",
       "3                                                NaN   \n",
       "4  https://p.scdn.co/mp3-preview/d2253d713457b378...   \n",
       "\n",
       "                                          artist_url  \\\n",
       "0  https://api.spotify.com/v1/artists/5tGG1slV9pk...   \n",
       "1  https://api.spotify.com/v1/artists/5NIvyOvy39l...   \n",
       "2  https://api.spotify.com/v1/artists/3gmJYDVdrlG...   \n",
       "3  https://api.spotify.com/v1/artists/2xiIXseIJcq...   \n",
       "4  https://api.spotify.com/v1/artists/3pulcT2wt7F...   \n",
       "\n",
       "                                              genres  \n",
       "0  ['deathcore', 'long island punk', 'melodic har...  \n",
       "1  ['american melodeath', 'denver metal', 'melodi...  \n",
       "2                                                 []  \n",
       "3  ['alternative metal', 'canadian metal', 'canad...  \n",
       "4  ['death metal', 'melodic death metal', 'metal'...  "
      ]
     },
     "execution_count": 11,
     "metadata": {},
     "output_type": "execute_result"
    }
   ],
   "source": [
    "data.head()"
   ]
  },
  {
   "cell_type": "code",
   "execution_count": 12,
   "id": "dec8bbef-2b95-447e-a953-7d046de58f8e",
   "metadata": {},
   "outputs": [
    {
     "data": {
      "text/plain": [
       "(982, 7)"
      ]
     },
     "execution_count": 12,
     "metadata": {},
     "output_type": "execute_result"
    }
   ],
   "source": [
    "data.shape"
   ]
  },
  {
   "cell_type": "code",
   "execution_count": 13,
   "id": "08838dec-03d0-4d97-aca9-296e3f3d0756",
   "metadata": {},
   "outputs": [
    {
     "data": {
      "text/plain": [
       "(851, 7)"
      ]
     },
     "execution_count": 13,
     "metadata": {},
     "output_type": "execute_result"
    }
   ],
   "source": [
    "data.dropna(axis=0, inplace=True)\n",
    "data.shape"
   ]
  },
  {
   "cell_type": "code",
   "execution_count": 14,
   "id": "189ea02d-06e3-4b53-9409-59616eff36da",
   "metadata": {},
   "outputs": [],
   "source": [
    "df = data[data.astype(str)['genres'] != '[]']"
   ]
  },
  {
   "cell_type": "code",
   "execution_count": 15,
   "id": "40843289-fe3d-4259-b146-42a7c73792f7",
   "metadata": {},
   "outputs": [
    {
     "data": {
      "text/plain": [
       "(710, 7)"
      ]
     },
     "execution_count": 15,
     "metadata": {},
     "output_type": "execute_result"
    }
   ],
   "source": [
    "df.shape"
   ]
  },
  {
   "cell_type": "code",
   "execution_count": 16,
   "id": "5045ce51-b2e3-4376-979c-c4214e472330",
   "metadata": {},
   "outputs": [],
   "source": [
    "df.to_csv(\"../data/tracklist_dropna.csv\", sep=\";\")"
   ]
  },
  {
   "cell_type": "code",
   "execution_count": null,
   "id": "c25a909f-82d0-4b41-b57d-e376d0577ffb",
   "metadata": {},
   "outputs": [],
   "source": []
  }
 ],
 "metadata": {
  "kernelspec": {
   "display_name": "Python 3 (ipykernel)",
   "language": "python",
   "name": "python3"
  },
  "language_info": {
   "codemirror_mode": {
    "name": "ipython",
    "version": 3
   },
   "file_extension": ".py",
   "mimetype": "text/x-python",
   "name": "python",
   "nbconvert_exporter": "python",
   "pygments_lexer": "ipython3",
   "version": "3.9.7"
  }
 },
 "nbformat": 4,
 "nbformat_minor": 5
}
