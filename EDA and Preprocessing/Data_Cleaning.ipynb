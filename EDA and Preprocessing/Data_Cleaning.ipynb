{
 "cells": [
  {
   "cell_type": "markdown",
   "id": "6bb327ef-1e31-41a7-8073-9e516adf4cfc",
   "metadata": {
    "tags": []
   },
   "source": [
    "# Clean Dataset"
   ]
  },
  {
   "cell_type": "code",
   "execution_count": 1,
   "id": "276082b8-8b31-45bf-8194-5c131f8ce339",
   "metadata": {},
   "outputs": [],
   "source": [
    "import sys\n",
    "sys.path.append('../')"
   ]
  },
  {
   "cell_type": "code",
   "execution_count": 2,
   "id": "2a8da174-1090-4afa-9557-5c9fb1b177ed",
   "metadata": {},
   "outputs": [],
   "source": [
    "import pandas as pd\n",
    "import numpy as np"
   ]
  },
  {
   "cell_type": "code",
   "execution_count": 3,
   "id": "0dfab190-a397-4b2d-a2a1-1f2870a39e51",
   "metadata": {},
   "outputs": [],
   "source": [
    "data = pd.read_csv(\"../data/playlist_data.csv\", sep=\";\")"
   ]
  },
  {
   "cell_type": "code",
   "execution_count": 4,
   "id": "16e2873e-7cfa-447d-848d-f701e303daf9",
   "metadata": {},
   "outputs": [
    {
     "data": {
      "text/html": [
       "<div>\n",
       "<style scoped>\n",
       "    .dataframe tbody tr th:only-of-type {\n",
       "        vertical-align: middle;\n",
       "    }\n",
       "\n",
       "    .dataframe tbody tr th {\n",
       "        vertical-align: top;\n",
       "    }\n",
       "\n",
       "    .dataframe thead th {\n",
       "        text-align: right;\n",
       "    }\n",
       "</style>\n",
       "<table border=\"1\" class=\"dataframe\">\n",
       "  <thead>\n",
       "    <tr style=\"text-align: right;\">\n",
       "      <th></th>\n",
       "      <th>track_name</th>\n",
       "      <th>artist</th>\n",
       "      <th>album</th>\n",
       "      <th>track_url</th>\n",
       "      <th>preview_url</th>\n",
       "      <th>artist_url</th>\n",
       "      <th>genres</th>\n",
       "    </tr>\n",
       "  </thead>\n",
       "  <tbody>\n",
       "    <tr>\n",
       "      <th>0</th>\n",
       "      <td>Guillotine</td>\n",
       "      <td>Stray From The Path</td>\n",
       "      <td>Guillotine</td>\n",
       "      <td>https://api.spotify.com/v1/tracks/5mWs0zabZrRE...</td>\n",
       "      <td>https://p.scdn.co/mp3-preview/dbd5861d09ee540c...</td>\n",
       "      <td>https://api.spotify.com/v1/artists/5tGG1slV9pk...</td>\n",
       "      <td>['deathcore', 'long island punk', 'melodic har...</td>\n",
       "    </tr>\n",
       "    <tr>\n",
       "      <th>1</th>\n",
       "      <td>Vermin</td>\n",
       "      <td>Allegaeon</td>\n",
       "      <td>DAMNUM</td>\n",
       "      <td>https://api.spotify.com/v1/tracks/6FDLIsQnjDx5...</td>\n",
       "      <td>https://p.scdn.co/mp3-preview/7d8fba2941244a72...</td>\n",
       "      <td>https://api.spotify.com/v1/artists/5NIvyOvy39l...</td>\n",
       "      <td>['american melodeath', 'denver metal', 'melodi...</td>\n",
       "    </tr>\n",
       "    <tr>\n",
       "      <th>2</th>\n",
       "      <td>March of the Insane</td>\n",
       "      <td>Dream Widow</td>\n",
       "      <td>March of the Insane</td>\n",
       "      <td>https://api.spotify.com/v1/tracks/5Jn0Kw1DtNLF...</td>\n",
       "      <td>https://p.scdn.co/mp3-preview/ec869dc2ce3faece...</td>\n",
       "      <td>https://api.spotify.com/v1/artists/3gmJYDVdrlG...</td>\n",
       "      <td>[]</td>\n",
       "    </tr>\n",
       "    <tr>\n",
       "      <th>3</th>\n",
       "      <td>Neurotic (feat. Lukas Rossi)</td>\n",
       "      <td>Three Days Grace</td>\n",
       "      <td>Neurotic (feat. Lukas Rossi)</td>\n",
       "      <td>https://api.spotify.com/v1/tracks/0lMYQaJNpyo4...</td>\n",
       "      <td>NaN</td>\n",
       "      <td>https://api.spotify.com/v1/artists/2xiIXseIJcq...</td>\n",
       "      <td>['alternative metal', 'canadian metal', 'canad...</td>\n",
       "    </tr>\n",
       "    <tr>\n",
       "      <th>4</th>\n",
       "      <td>Put Your Back Into The Oar</td>\n",
       "      <td>Amon Amarth</td>\n",
       "      <td>Put Your Back Into The Oar</td>\n",
       "      <td>https://api.spotify.com/v1/tracks/4fY2JR0REUiy...</td>\n",
       "      <td>https://p.scdn.co/mp3-preview/d2253d713457b378...</td>\n",
       "      <td>https://api.spotify.com/v1/artists/3pulcT2wt7F...</td>\n",
       "      <td>['death metal', 'melodic death metal', 'metal'...</td>\n",
       "    </tr>\n",
       "  </tbody>\n",
       "</table>\n",
       "</div>"
      ],
      "text/plain": [
       "                     track_name               artist  \\\n",
       "0                    Guillotine  Stray From The Path   \n",
       "1                        Vermin            Allegaeon   \n",
       "2           March of the Insane          Dream Widow   \n",
       "3  Neurotic (feat. Lukas Rossi)     Three Days Grace   \n",
       "4    Put Your Back Into The Oar          Amon Amarth   \n",
       "\n",
       "                          album  \\\n",
       "0                    Guillotine   \n",
       "1                        DAMNUM   \n",
       "2           March of the Insane   \n",
       "3  Neurotic (feat. Lukas Rossi)   \n",
       "4    Put Your Back Into The Oar   \n",
       "\n",
       "                                           track_url  \\\n",
       "0  https://api.spotify.com/v1/tracks/5mWs0zabZrRE...   \n",
       "1  https://api.spotify.com/v1/tracks/6FDLIsQnjDx5...   \n",
       "2  https://api.spotify.com/v1/tracks/5Jn0Kw1DtNLF...   \n",
       "3  https://api.spotify.com/v1/tracks/0lMYQaJNpyo4...   \n",
       "4  https://api.spotify.com/v1/tracks/4fY2JR0REUiy...   \n",
       "\n",
       "                                         preview_url  \\\n",
       "0  https://p.scdn.co/mp3-preview/dbd5861d09ee540c...   \n",
       "1  https://p.scdn.co/mp3-preview/7d8fba2941244a72...   \n",
       "2  https://p.scdn.co/mp3-preview/ec869dc2ce3faece...   \n",
       "3                                                NaN   \n",
       "4  https://p.scdn.co/mp3-preview/d2253d713457b378...   \n",
       "\n",
       "                                          artist_url  \\\n",
       "0  https://api.spotify.com/v1/artists/5tGG1slV9pk...   \n",
       "1  https://api.spotify.com/v1/artists/5NIvyOvy39l...   \n",
       "2  https://api.spotify.com/v1/artists/3gmJYDVdrlG...   \n",
       "3  https://api.spotify.com/v1/artists/2xiIXseIJcq...   \n",
       "4  https://api.spotify.com/v1/artists/3pulcT2wt7F...   \n",
       "\n",
       "                                              genres  \n",
       "0  ['deathcore', 'long island punk', 'melodic har...  \n",
       "1  ['american melodeath', 'denver metal', 'melodi...  \n",
       "2                                                 []  \n",
       "3  ['alternative metal', 'canadian metal', 'canad...  \n",
       "4  ['death metal', 'melodic death metal', 'metal'...  "
      ]
     },
     "execution_count": 4,
     "metadata": {},
     "output_type": "execute_result"
    }
   ],
   "source": [
    "data.head()"
   ]
  },
  {
   "cell_type": "code",
   "execution_count": 5,
   "id": "dec8bbef-2b95-447e-a953-7d046de58f8e",
   "metadata": {},
   "outputs": [
    {
     "data": {
      "text/plain": [
       "(982, 7)"
      ]
     },
     "execution_count": 5,
     "metadata": {},
     "output_type": "execute_result"
    }
   ],
   "source": [
    "data.shape"
   ]
  },
  {
   "cell_type": "code",
   "execution_count": 6,
   "id": "08838dec-03d0-4d97-aca9-296e3f3d0756",
   "metadata": {},
   "outputs": [
    {
     "data": {
      "text/plain": [
       "(851, 7)"
      ]
     },
     "execution_count": 6,
     "metadata": {},
     "output_type": "execute_result"
    }
   ],
   "source": [
    "data.dropna(axis=0, inplace=True)\n",
    "data.shape"
   ]
  },
  {
   "cell_type": "code",
   "execution_count": 7,
   "id": "189ea02d-06e3-4b53-9409-59616eff36da",
   "metadata": {},
   "outputs": [],
   "source": [
    "df = data[data.astype(str)['genres'] != '[]']"
   ]
  },
  {
   "cell_type": "code",
   "execution_count": 8,
   "id": "40843289-fe3d-4259-b146-42a7c73792f7",
   "metadata": {},
   "outputs": [
    {
     "data": {
      "text/plain": [
       "(710, 7)"
      ]
     },
     "execution_count": 8,
     "metadata": {},
     "output_type": "execute_result"
    }
   ],
   "source": [
    "df.shape"
   ]
  },
  {
   "cell_type": "code",
   "execution_count": 9,
   "id": "5045ce51-b2e3-4376-979c-c4214e472330",
   "metadata": {},
   "outputs": [],
   "source": [
    "df.to_csv(\"../data/tracklist_dropna.csv\", sep=\";\")"
   ]
  },
  {
   "cell_type": "markdown",
   "id": "12d35a3c-df11-4f1b-85bc-9de870cb20b2",
   "metadata": {},
   "source": [
    "## Clean genres column (and some EDA)"
   ]
  },
  {
   "cell_type": "code",
   "execution_count": 5,
   "id": "2439c4c9-c82f-4cab-afc6-90ec6da47acd",
   "metadata": {},
   "outputs": [],
   "source": [
    "import sys\n",
    "sys.path.append('../')"
   ]
  },
  {
   "cell_type": "code",
   "execution_count": 6,
   "id": "45e25c5c-ec43-413a-88fb-b2d35cc4984d",
   "metadata": {},
   "outputs": [],
   "source": [
    "# Data Viz\n",
    "import pandas as pd\n",
    "import numpy as np\n",
    "import matplotlib.pyplot as pl\n",
    "import seaborn as sns\n",
    "\n",
    "#Load Timer\n",
    "from tqdm import tqdm\n",
    "\n",
    "# Data Cleaning\n",
    "import re\n",
    "import string\n",
    "import pycountry as pyc"
   ]
  },
  {
   "cell_type": "code",
   "execution_count": 7,
   "id": "2aec693f-6ea9-457b-a554-a52a449b9117",
   "metadata": {},
   "outputs": [],
   "source": [
    "data = pd.read_csv(\"../data/tracklist_spectrograms.csv\", sep=\";\")"
   ]
  },
  {
   "cell_type": "code",
   "execution_count": 8,
   "id": "04cae36f-8c48-4f4f-9f72-d350906b971c",
   "metadata": {},
   "outputs": [
    {
     "data": {
      "text/html": [
       "<div>\n",
       "<style scoped>\n",
       "    .dataframe tbody tr th:only-of-type {\n",
       "        vertical-align: middle;\n",
       "    }\n",
       "\n",
       "    .dataframe tbody tr th {\n",
       "        vertical-align: top;\n",
       "    }\n",
       "\n",
       "    .dataframe thead th {\n",
       "        text-align: right;\n",
       "    }\n",
       "</style>\n",
       "<table border=\"1\" class=\"dataframe\">\n",
       "  <thead>\n",
       "    <tr style=\"text-align: right;\">\n",
       "      <th></th>\n",
       "      <th>track_name</th>\n",
       "      <th>artist</th>\n",
       "      <th>album</th>\n",
       "      <th>track_url</th>\n",
       "      <th>preview_url</th>\n",
       "      <th>artist_url</th>\n",
       "      <th>genres</th>\n",
       "      <th>file_location</th>\n",
       "      <th>spectrogram</th>\n",
       "    </tr>\n",
       "  </thead>\n",
       "  <tbody>\n",
       "    <tr>\n",
       "      <th>0</th>\n",
       "      <td>Guillotine</td>\n",
       "      <td>Stray From The Path</td>\n",
       "      <td>Guillotine</td>\n",
       "      <td>https://api.spotify.com/v1/tracks/5mWs0zabZrRE...</td>\n",
       "      <td>https://p.scdn.co/mp3-preview/dbd5861d09ee540c...</td>\n",
       "      <td>https://api.spotify.com/v1/artists/5tGG1slV9pk...</td>\n",
       "      <td>['deathcore', 'long island punk', 'melodic har...</td>\n",
       "      <td>../data/audio/Guillotine-Stray From The Path.wav</td>\n",
       "      <td>../data/images/spectrograms/Guillotine_Stray F...</td>\n",
       "    </tr>\n",
       "    <tr>\n",
       "      <th>1</th>\n",
       "      <td>Vermin</td>\n",
       "      <td>Allegaeon</td>\n",
       "      <td>DAMNUM</td>\n",
       "      <td>https://api.spotify.com/v1/tracks/6FDLIsQnjDx5...</td>\n",
       "      <td>https://p.scdn.co/mp3-preview/7d8fba2941244a72...</td>\n",
       "      <td>https://api.spotify.com/v1/artists/5NIvyOvy39l...</td>\n",
       "      <td>['american melodeath', 'denver metal', 'melodi...</td>\n",
       "      <td>../data/audio/Vermin-Allegaeon.wav</td>\n",
       "      <td>../data/images/spectrograms/Vermin_Allegaeon_s...</td>\n",
       "    </tr>\n",
       "    <tr>\n",
       "      <th>2</th>\n",
       "      <td>Put Your Back Into The Oar</td>\n",
       "      <td>Amon Amarth</td>\n",
       "      <td>Put Your Back Into The Oar</td>\n",
       "      <td>https://api.spotify.com/v1/tracks/4fY2JR0REUiy...</td>\n",
       "      <td>https://p.scdn.co/mp3-preview/d2253d713457b378...</td>\n",
       "      <td>https://api.spotify.com/v1/artists/3pulcT2wt7F...</td>\n",
       "      <td>['death metal', 'melodic death metal', 'metal'...</td>\n",
       "      <td>../data/audio/Put Your Back Into The Oar-Amon ...</td>\n",
       "      <td>../data/images/spectrograms/Put Your Back Into...</td>\n",
       "    </tr>\n",
       "    <tr>\n",
       "      <th>3</th>\n",
       "      <td>Make Believe</td>\n",
       "      <td>Memphis May Fire</td>\n",
       "      <td>Make Believe</td>\n",
       "      <td>https://api.spotify.com/v1/tracks/5NLi9YVXt9pM...</td>\n",
       "      <td>https://p.scdn.co/mp3-preview/50d174c4df0bdff7...</td>\n",
       "      <td>https://api.spotify.com/v1/artists/7cNNNhdJDrt...</td>\n",
       "      <td>['melodic metalcore', 'metalcore', 'post-screa...</td>\n",
       "      <td>../data/audio/Make Believe-Memphis May Fire.wav</td>\n",
       "      <td>../data/images/spectrograms/Make Believe_Memph...</td>\n",
       "    </tr>\n",
       "    <tr>\n",
       "      <th>4</th>\n",
       "      <td>Dystopia (feat. Christoph Wieczorek of Annisokay)</td>\n",
       "      <td>Caliban</td>\n",
       "      <td>Dystopia (feat. Christoph Wieczorek of Annisokay)</td>\n",
       "      <td>https://api.spotify.com/v1/tracks/2WaaniEgnI8p...</td>\n",
       "      <td>https://p.scdn.co/mp3-preview/927ee1c9965680c1...</td>\n",
       "      <td>https://api.spotify.com/v1/artists/1oeo6cC9Fqa...</td>\n",
       "      <td>['deathcore', 'german metalcore', 'german post...</td>\n",
       "      <td>../data/audio/Dystopia feat Christoph Wieczore...</td>\n",
       "      <td>../data/images/spectrograms/Dystopia (feat. Ch...</td>\n",
       "    </tr>\n",
       "  </tbody>\n",
       "</table>\n",
       "</div>"
      ],
      "text/plain": [
       "                                          track_name               artist  \\\n",
       "0                                         Guillotine  Stray From The Path   \n",
       "1                                             Vermin            Allegaeon   \n",
       "2                         Put Your Back Into The Oar          Amon Amarth   \n",
       "3                                       Make Believe     Memphis May Fire   \n",
       "4  Dystopia (feat. Christoph Wieczorek of Annisokay)              Caliban   \n",
       "\n",
       "                                               album  \\\n",
       "0                                         Guillotine   \n",
       "1                                             DAMNUM   \n",
       "2                         Put Your Back Into The Oar   \n",
       "3                                       Make Believe   \n",
       "4  Dystopia (feat. Christoph Wieczorek of Annisokay)   \n",
       "\n",
       "                                           track_url  \\\n",
       "0  https://api.spotify.com/v1/tracks/5mWs0zabZrRE...   \n",
       "1  https://api.spotify.com/v1/tracks/6FDLIsQnjDx5...   \n",
       "2  https://api.spotify.com/v1/tracks/4fY2JR0REUiy...   \n",
       "3  https://api.spotify.com/v1/tracks/5NLi9YVXt9pM...   \n",
       "4  https://api.spotify.com/v1/tracks/2WaaniEgnI8p...   \n",
       "\n",
       "                                         preview_url  \\\n",
       "0  https://p.scdn.co/mp3-preview/dbd5861d09ee540c...   \n",
       "1  https://p.scdn.co/mp3-preview/7d8fba2941244a72...   \n",
       "2  https://p.scdn.co/mp3-preview/d2253d713457b378...   \n",
       "3  https://p.scdn.co/mp3-preview/50d174c4df0bdff7...   \n",
       "4  https://p.scdn.co/mp3-preview/927ee1c9965680c1...   \n",
       "\n",
       "                                          artist_url  \\\n",
       "0  https://api.spotify.com/v1/artists/5tGG1slV9pk...   \n",
       "1  https://api.spotify.com/v1/artists/5NIvyOvy39l...   \n",
       "2  https://api.spotify.com/v1/artists/3pulcT2wt7F...   \n",
       "3  https://api.spotify.com/v1/artists/7cNNNhdJDrt...   \n",
       "4  https://api.spotify.com/v1/artists/1oeo6cC9Fqa...   \n",
       "\n",
       "                                              genres  \\\n",
       "0  ['deathcore', 'long island punk', 'melodic har...   \n",
       "1  ['american melodeath', 'denver metal', 'melodi...   \n",
       "2  ['death metal', 'melodic death metal', 'metal'...   \n",
       "3  ['melodic metalcore', 'metalcore', 'post-screa...   \n",
       "4  ['deathcore', 'german metalcore', 'german post...   \n",
       "\n",
       "                                       file_location  \\\n",
       "0   ../data/audio/Guillotine-Stray From The Path.wav   \n",
       "1                 ../data/audio/Vermin-Allegaeon.wav   \n",
       "2  ../data/audio/Put Your Back Into The Oar-Amon ...   \n",
       "3    ../data/audio/Make Believe-Memphis May Fire.wav   \n",
       "4  ../data/audio/Dystopia feat Christoph Wieczore...   \n",
       "\n",
       "                                         spectrogram  \n",
       "0  ../data/images/spectrograms/Guillotine_Stray F...  \n",
       "1  ../data/images/spectrograms/Vermin_Allegaeon_s...  \n",
       "2  ../data/images/spectrograms/Put Your Back Into...  \n",
       "3  ../data/images/spectrograms/Make Believe_Memph...  \n",
       "4  ../data/images/spectrograms/Dystopia (feat. Ch...  "
      ]
     },
     "execution_count": 8,
     "metadata": {},
     "output_type": "execute_result"
    }
   ],
   "source": [
    "data.head()"
   ]
  },
  {
   "cell_type": "code",
   "execution_count": 9,
   "id": "896377e0-7a5a-41f8-9451-568318c25118",
   "metadata": {},
   "outputs": [],
   "source": [
    "y = data['genres']"
   ]
  },
  {
   "cell_type": "code",
   "execution_count": 10,
   "id": "35ffac4c-2df9-4b51-aa45-5a91da9280c9",
   "metadata": {},
   "outputs": [
    {
     "data": {
      "text/plain": [
       "0    ['deathcore', 'long island punk', 'melodic har...\n",
       "1    ['american melodeath', 'denver metal', 'melodi...\n",
       "2    ['death metal', 'melodic death metal', 'metal'...\n",
       "3    ['melodic metalcore', 'metalcore', 'post-screa...\n",
       "4    ['deathcore', 'german metalcore', 'german post...\n",
       "Name: genres, dtype: object"
      ]
     },
     "execution_count": 10,
     "metadata": {},
     "output_type": "execute_result"
    }
   ],
   "source": [
    "y.head()"
   ]
  },
  {
   "cell_type": "code",
   "execution_count": 11,
   "id": "b107c681-b399-4bfc-b1cd-087e67b155f3",
   "metadata": {},
   "outputs": [
    {
     "data": {
      "text/plain": [
       "689"
      ]
     },
     "execution_count": 11,
     "metadata": {},
     "output_type": "execute_result"
    }
   ],
   "source": [
    "len(y)"
   ]
  },
  {
   "cell_type": "code",
   "execution_count": 12,
   "id": "a3288402-656f-45f5-becc-341f40f2fcd5",
   "metadata": {},
   "outputs": [
    {
     "data": {
      "text/plain": [
       "\"['deathcore', 'long island punk', 'melodic hardcore', 'melodic metalcore', 'metalcore']\""
      ]
     },
     "execution_count": 12,
     "metadata": {},
     "output_type": "execute_result"
    }
   ],
   "source": [
    "y[0]"
   ]
  },
  {
   "cell_type": "code",
   "execution_count": 13,
   "id": "c8fa443c-81d2-482d-a17e-d556aced35a0",
   "metadata": {},
   "outputs": [],
   "source": [
    "def label_cleaner(df):\n",
    "    charlist = string.punctuation.replace(',', \"\").replace('-',\"\")\n",
    "   \n",
    "    for i in tqdm(range(len(df))):\n",
    "        for char in charlist:\n",
    "            df[i] = df[i].replace(char, \"\")\n",
    "        df[i] = df[i].split(\", \")"
   ]
  },
  {
   "cell_type": "code",
   "execution_count": 14,
   "id": "bc444b60-0159-452d-b8f4-38e2116d5f8f",
   "metadata": {},
   "outputs": [
    {
     "name": "stderr",
     "output_type": "stream",
     "text": [
      "100%|███████████████████████████████████████████████████████████████████████████████| 689/689 [00:00<00:00, 859.26it/s]\n"
     ]
    }
   ],
   "source": [
    "label_cleaner(y)"
   ]
  },
  {
   "cell_type": "code",
   "execution_count": 15,
   "id": "3316eed4-b597-413d-99e5-cb197ec23b7a",
   "metadata": {},
   "outputs": [
    {
     "data": {
      "text/plain": [
       "pandas.core.series.Series"
      ]
     },
     "execution_count": 15,
     "metadata": {},
     "output_type": "execute_result"
    }
   ],
   "source": [
    "type(y)"
   ]
  },
  {
   "cell_type": "code",
   "execution_count": 16,
   "id": "c305a2f9-e99a-4099-b583-05857b8ede2d",
   "metadata": {},
   "outputs": [],
   "source": [
    "def unique_list(series):\n",
    "    \"\"\"\n",
    "    This function returns a unique list of each list item in a series of lists\n",
    "    series = Pandas Series object\n",
    "    \"\"\"\n",
    "    unique_terms = series.explode().value_counts()\n",
    "    pd.set_option('display.max_rows', 500)\n",
    "    print(unique_terms)"
   ]
  },
  {
   "cell_type": "code",
   "execution_count": 630,
   "id": "ad9fdb79-12bd-41c8-b5c4-f13b7a987d45",
   "metadata": {},
   "outputs": [],
   "source": [
    "# List of unique place identifiers to be dropped due to redundancy\n",
    "\n",
    "\n",
    "place_labels = ['german', 'swedish', 'american', 'finnish', 'uk', 'polish', \n",
    "                'scottish', 'british', 'norwegian', 'canadian', 'gothenburg', \n",
    "                'quebec', 'birmingham', 'french', 'danish', 'ukrainian', 'virginia', \n",
    "                'portuguese', 'dutch', 'italian', 'varmland', 'vancouver', 'alabama', \n",
    "                'boston', 'us', 'new', 'england', 'belgian', 'nz', 'ese', 'texas', \n",
    "                'wisconsin', 'swiss', 'greek', 'atlanta', 'miami', 'louisiana', \n",
    "                'north', 'carolina', 'portland', 'cleveland', 'portuguese', 'connecticut',\n",
    "                'denver', 'buffalo', 'new', 'york', 'hungarian', 'iranian', 'long', 'island',\n",
    "                'korean', 'russian', 'pennsylvania', 'spanish', 'saxony', 'northeast', \n",
    "                'indian', 'indonesian', 'york', 'australian', 'lapland', 'israeli', \n",
    "                'austrian', 'western', 'ny', 'slovenian', 'japanese', 'latin', 'oulu']\n",
    "\n",
    "redundant = ['deutschrock', 'powerviolence', 'vegan', 'straight', 'edge', 'art', \n",
    "             'diy', 'cover', 'grisly', 'brutal', 'slamming', 'gotico', 'cello', \n",
    "             'fnaf', 'ccm', 'swancore', 'wave', 'of', 'viral', 'music', 'rebel' ,\n",
    "             'album', 'neo-trad', 'bow', 'eurovision', 'conscious', 'atmospheric',\n",
    "             'instrumental', 'sci-fi', 'idol', 'anthem', 'antiviral', 'epic', 'crossover',\n",
    "             'dark', 'old-school', 'indie', \n",
    "            ]\n",
    "\n",
    "cleaning_map_multi = {\n",
    "             \"neue deutsche harte\": \"hard rock\",\n",
    "             \"nwocr\" : \"classic rock\",\n",
    "             \"black n roll\": \"black-n-roll\",\n",
    "             \"musiikkia lapista\": \"post-grunge hard rock\",\n",
    "             \"dark clubbing\": \"post-grunge alternative rock\",\n",
    "             \"neo-synthpop\": \"alternative rock\",\n",
    "             \"dreamo\": \"indie rock\",\n",
    "             \"future rock\": \"alternative hard rock\",\n",
    "             \"goregrind\": \"blackened death metal\",\n",
    "             \"deathrash\": \"death thrash\",\n",
    "             \"deathgrind\": \"death metal\",\n",
    "             \"grindcore\": \"deathcore\",\n",
    "             \"unblack\": \"christian black\",\n",
    "             \"nu-metalcore\": \"nu metalcore\",\n",
    "             \"nightcore\": \"hard rock\",\n",
    "             \"black-n-roll\": \"black rock\"\n",
    "             }\n",
    "\n",
    "cleaning_map_single = { \"slam\" : \"slamming\",\n",
    "             \"prog\" : \"progressive\", \n",
    "             \"post-metal\": \"metal\", \n",
    "             \"nwothm\": \"thrash\",\n",
    "             \"beatdown\": \"hardcore\", \n",
    "             \"screamocore\": \"post-hardcore\",\n",
    "             \"post-post-hardcore\": \"post-hardcore\",\n",
    "             \"post-screamo\": \"post-hardcore\",\n",
    "             \"pirate\": \"folk\",\n",
    "             \"celtic\": \"folk\",\n",
    "             \"middle earth\": \"folk\",\n",
    "             \"pagan\": \"folk\",\n",
    "             \"viking\": \"folk\",\n",
    "             \"tolkien\": \"folk\",\n",
    "             \"medieval\": \"folk\",\n",
    "             \"nordic\": \"folk\",\n",
    "             \"hurdy-gurdy\": \"folk\",\n",
    "             \"funk\": \"groove\",\n",
    "             \"emo\": \"alternative\",\n",
    "             \"thall\": \"djent\",\n",
    "             \"operatic\": \"opera\",\n",
    "             \"school\": \"old-school\",\n",
    "             \"old\": \"old-school\",\n",
    "             \"worship\": \"christian\",\n",
    "             \"blackgaze\": \"black\",\n",
    "             \"post-black\": \"black\",\n",
    "             \"voidgaze\": \"black\",\n",
    "             \"blackgaze\": \"black\",\n",
    "             \"blackened\": \"black\",\n",
    "             \"shred\": \"speed\",\n",
    "             \"blues\": \"rock\",\n",
    "             \"kawaii\": \"otacore\",\n",
    "             \"j-metal\": \"otacore\",\n",
    "             \"post-doom\": \"death\",\n",
    "             \"doom\": \"death\",\n",
    "             \"hip\": \"rap\",\n",
    "             \"hop\": \"rap\",\n",
    "             \"downtempo\": \"deathcore\",\n",
    "             \"psychedelic\": \"electronic\",\n",
    "             \"nightrun\": \"classic\",\n",
    "             \"sleaze\": \"hair\",\n",
    "             \"glam\": \"hair\",\n",
    "             \"classical\": \"symphonic\"\n",
    "             }"
   ]
  },
  {
   "cell_type": "code",
   "execution_count": 631,
   "id": "6f8e1729-3d49-4592-bacf-1c389dd69417",
   "metadata": {},
   "outputs": [],
   "source": [
    "def remap(lst, mapping):\n",
    "    for item in range(len(lst)):\n",
    "        if lst[item] in mapping.keys():\n",
    "            lst[item] = mapping[lst[item]]\n",
    "        else:\n",
    "            lst[item] = lst[item]\n",
    "    return lst"
   ]
  },
  {
   "cell_type": "code",
   "execution_count": 632,
   "id": "c620513a-6ec4-4ff2-bea3-3faee12c1cb6",
   "metadata": {},
   "outputs": [],
   "source": [
    "def genreclean(row, x_list):\n",
    "        newgenre = []\n",
    "        for genre in row:\n",
    "            newlist = genre.split()\n",
    "            new_timer = len(newlist)\n",
    "            while new_timer > 0:\n",
    "                for n in newlist:\n",
    "                    if n in x_list:\n",
    "                        newlist.remove(n)\n",
    "                        new_timer -= 1\n",
    "                    else:\n",
    "                        new_timer -= 1\n",
    "            newgenre.append(' '.join(newlist))\n",
    "        return newgenre"
   ]
  },
  {
   "cell_type": "code",
   "execution_count": 633,
   "id": "20d52e67-5c31-476e-8c6a-2c0426a5b88c",
   "metadata": {},
   "outputs": [],
   "source": [
    "def stylesplit(lst):\n",
    "    newlist = []\n",
    "    for item in lst:\n",
    "        templist = item.split()\n",
    "        for item in templist:\n",
    "            if item not in newlist:\n",
    "                newlist.append(item)\n",
    "    return newlist"
   ]
  },
  {
   "cell_type": "code",
   "execution_count": 634,
   "id": "20349d3f-fe0c-43f3-b86d-d63b05bcda2b",
   "metadata": {},
   "outputs": [],
   "source": [
    "y2 = y"
   ]
  },
  {
   "cell_type": "code",
   "execution_count": 440,
   "id": "d9e7c817-035a-4ab7-a429-74d00f93d305",
   "metadata": {
    "collapsed": true,
    "jupyter": {
     "outputs_hidden": true
    },
    "tags": []
   },
   "outputs": [
    {
     "name": "stdout",
     "output_type": "stream",
     "text": [
      "metalcore                            179\n",
      "melodic metalcore                    113\n",
      "post-hardcore                        100\n",
      "metal                                 95\n",
      "melodic metal                         77\n",
      "alternative metal                     64\n",
      "power metal                           60\n",
      "nu metal                              45\n",
      "death metal                           45\n",
      "melodic death metal                   44\n",
      "slayer                                41\n",
      "gymcore                               40\n",
      "deathcore                             38\n",
      "screamo                               34\n",
      "christian rock                        34\n",
      "hard rock                             31\n",
      "german metalcore                      31\n",
      "swedish metal                         30\n",
      "neo classical metal                   30\n",
      "german metal                          29\n",
      "progressive deathcore                 26\n",
      "symphonic metal                       26\n",
      "german post-hardcore                  25\n",
      "american metalcore                    25\n",
      "trancecore                            23\n",
      "gothic symphonic metal                22\n",
      "technical death metal                 21\n",
      "christian metalcore                   21\n",
      "brutal death metal                    20\n",
      "german power metal                    19\n",
      "finnish metal                         19\n",
      "swedish melodeath                     19\n",
      "christian metal                       19\n",
      "swedish death metal                   18\n",
      "symphonic power metal                 18\n",
      "speed metal                           18\n",
      "gothic metal                          17\n",
      "melodic hardcore                      17\n",
      "progressive metal                     15\n",
      "slamming deathcore                    15\n",
      "djent                                 14\n",
      "uk metalcore                          14\n",
      "black metal                           14\n",
      "groove metal                          14\n",
      "rap rock                              13\n",
      "pop punk                              13\n",
      "comic metal                           13\n",
      "blackened deathcore                   13\n",
      "metallic hardcore                     13\n",
      "nu-metalcore                          12\n",
      "progressive metalcore                 12\n",
      "melodic deathcore                     12\n",
      "rap metal                             12\n",
      "symphonic deathcore                   12\n",
      "finnish melodeath                     11\n",
      "australian post-hardcore              11\n",
      "pixie                                 10\n",
      "swedish power metal                   10\n",
      "rock                                  10\n",
      "christian alternative rock            10\n",
      "modern hard rock                      10\n",
      "polish metal                           9\n",
      "industrial metal                       9\n",
      "polish death metal                     9\n",
      "post-grunge                            9\n",
      "finnish power metal                    9\n",
      "thrash metal                           9\n",
      "technical groove metal                 8\n",
      "glam metal                             8\n",
      "canadian hardcore                      8\n",
      "mathcore                               8\n",
      "viking metal                           8\n",
      "technical thrash                       8\n",
      "australian metalcore                   8\n",
      "opera metal                            8\n",
      "old school thrash                      8\n",
      "album rock                             7\n",
      "danish metal                           7\n",
      "neo-trad metal                         7\n",
      "swedish metalcore                      7\n",
      "finnish metalcore                      7\n",
      "brutal deathcore                       7\n",
      "uk post-hardcore                       7\n",
      "sleaze rock                            6\n",
      "symphonic death metal                  6\n",
      "canadian metal                         6\n",
      "australian metal                       6\n",
      "melodic groove metal                   6\n",
      "tolkien metal                          6\n",
      "norwegian metal                        6\n",
      "pagan black metal                      6\n",
      "polish black metal                     6\n",
      "deep metalcore                         6\n",
      "folk metal                             6\n",
      "gothenburg metal                       6\n",
      "scottish metal                         6\n",
      "british power metal                    6\n",
      "deep melodic metalcore                 6\n",
      "progressive groove metal               6\n",
      "finnish death metal                    6\n",
      "slovenian metal                        5\n",
      "folk                                   5\n",
      "canadian metalcore                     5\n",
      "quebec punk                            5\n",
      "christian hardcore                     5\n",
      "german rock                            5\n",
      "nightrun                               5\n",
      "swedish alternative rock               5\n",
      "modern rock                            5\n",
      "classic rock                           5\n",
      "hard alternative                       5\n",
      "swedish progressive metal              5\n",
      "german thrash metal                    5\n",
      "modern alternative rock                5\n",
      "swedish hard rock                      5\n",
      "french metal                           4\n",
      "ukrainian metalcore                    4\n",
      "modern melodic hardcore                4\n",
      "birmingham metal                       4\n",
      "danish death metal                     4\n",
      "comic                                  4\n",
      "symphonic black metal                  4\n",
      "new wave of thrash metal               4\n",
      "finnish heavy metal                    4\n",
      "indie rock                             4\n",
      "slam death metal                       4\n",
      "virginia metal                         4\n",
      "australian death metal                 4\n",
      "portuguese metal                       4\n",
      "deep progressive rock                  4\n",
      "norwegian black metal                  4\n",
      "italian metal                          4\n",
      "dutch metal                            4\n",
      "black                                  4\n",
      "new wave of glam metal                 3\n",
      "danish hardcore                        3\n",
      "swedish melodic rock                   3\n",
      "celtic metal                           3\n",
      "melodic thrash                         3\n",
      "oulu metal                             3\n",
      "german melodeath                       3\n",
      "downtempo deathcore                    3\n",
      "bow pop                                3\n",
      "melodic hard rock                      3\n",
      "hurdy-gurdy                            3\n",
      "ukrainian metal                        3\n",
      "dark rock                              3\n",
      "christian hip hop                      3\n",
      "varmland rock                          3\n",
      "american melodeath                     3\n",
      "electronic djent                       3\n",
      "italian gothic metal                   3\n",
      "us power metal                         3\n",
      "otacore                                3\n",
      "italian gothic                         3\n",
      "vancouver metal                        3\n",
      "italian metalcore                      3\n",
      "boston metal                           3\n",
      "alabama metal                          3\n",
      "german hard rock                       3\n",
      "eurovision                             3\n",
      "progressive death metal                2\n",
      "j-metal                                2\n",
      "kawaii metal                           2\n",
      "black thrash                           2\n",
      "symphonic melodic death metal          2\n",
      "danish rock                            2\n",
      "post-grunge hard rock                  2\n",
      "unblack metal                          2\n",
      "progressive post-hardcore              2\n",
      "new england metal                      2\n",
      "hardcore                               2\n",
      "idol rock                              2\n",
      "swedish black metal                    2\n",
      "german heavy metal                     2\n",
      "alternative hard rock                  2\n",
      "french death metal                     2\n",
      "belgian death metal                    2\n",
      "japanese metalcore                     2\n",
      "progressive technical death metal      2\n",
      "crossover thrash                       2\n",
      "industrial rock                        2\n",
      "post-doom metal                        2\n",
      "gothic alternative                     2\n",
      "texas metal                            2\n",
      "technical melodic death metal          2\n",
      "italian power metal                    2\n",
      "christian deathcore                    2\n",
      "italian folk metal                     2\n",
      "technical deathcore                    2\n",
      "british death metal                    2\n",
      "canadian rock                          2\n",
      "canadian post-hardcore                 2\n",
      "black-n-roll                           2\n",
      "latin metal                            2\n",
      "nz hardcore                            2\n",
      "wisconsin metal                        2\n",
      "swiss metal                            2\n",
      "melodic power metal                    2\n",
      "uk pop punk                            2\n",
      "greek metal                            2\n",
      "finnish hard rock                      2\n",
      "austrian metal                         1\n",
      "atlanta punk                           1\n",
      "miami metal                            1\n",
      "christian hard rock                    1\n",
      "louisiana metal                        1\n",
      "cello                                  1\n",
      "ukrainian black metal                  1\n",
      "portland metal                         1\n",
      "heavy alternative                      1\n",
      "psychedelic doom                       1\n",
      "north carolina metal                   1\n",
      "german alternative rock                1\n",
      "japanese melodic hardcore              1\n",
      "cleveland metal                        1\n",
      "portuguese rock                        1\n",
      "connecticut hardcore                   1\n",
      "death thrash                           1\n",
      "british grindcore                      1\n",
      "progressive doom                       1\n",
      "nightcore                              1\n",
      "blackened death metal                  1\n",
      "anthem emo                             1\n",
      "buffalo ny metal                       1\n",
      "northeast indian indie                 1\n",
      "indian rock                            1\n",
      "swedish doom metal                     1\n",
      "epic doom                              1\n",
      "doom metal                             1\n",
      "speed                                  1\n",
      "nordic folk metal                      1\n",
      "viral rap                              1\n",
      "western ny metal                       1\n",
      "israeli metal                          1\n",
      "denver metal                           1\n",
      "sci-fi metal                           1\n",
      "rebel blues                            1\n",
      "christian                              1\n",
      "christian music                        1\n",
      "ccm                                    1\n",
      "fnaf                                   1\n",
      "antiviral pop                          1\n",
      "medieval rock                          1\n",
      "polish metalcore                       1\n",
      "belgian metal                          1\n",
      "new york death metal                   1\n",
      "lapland metal                          1\n",
      "hungarian metal                        1\n",
      "italian progressive metal              1\n",
      "post-black metal                       1\n",
      "portuguese death metal                 1\n",
      "straight edge                          1\n",
      "iranian metal                          1\n",
      "vegan straight edge                    1\n",
      "nz punk                                1\n",
      "post-grunge alternative rock           1\n",
      "new wave of speed metal                1\n",
      "symphonic rock                         1\n",
      "progressive rock                       1\n",
      "art rock                               1\n",
      "uk diy punk                            1\n",
      "black punk                             1\n",
      "thrash                                 1\n",
      "saxony metal                           1\n",
      "long island punk                       1\n",
      "metal cover                            1\n",
      "folk black metal                       1\n",
      "dark black metal                       1\n",
      "power thrash                           1\n",
      "korean metal                           1\n",
      "australian alternative rock            1\n",
      "grisly death metal                     1\n",
      "german death metal                     1\n",
      "french hardcore                        1\n",
      "indonesian death metal                 1\n",
      "swancore                               1\n",
      "russian metalcore                      1\n",
      "funk metal                             1\n",
      "atmospheric black metal                1\n",
      "modern hardcore                        1\n",
      "indonesian metal                       1\n",
      "indonesian indie                       1\n",
      "indonesian hardcore                    1\n",
      "indonesian deathcore                   1\n",
      "prog metal                             1\n",
      "alternative rock                       1\n",
      "finnish pop punk                       1\n",
      "instrumental djent                     1\n",
      "metal gotico                           1\n",
      "deutschrock                            1\n",
      "conscious hip hop                      1\n",
      "powerviolence                          1\n",
      "canadian death metal                   1\n",
      "pennsylvania hardcore                  1\n",
      "spanish metal                          1\n",
      "norwegian hardcore                     1\n",
      "Name: genres, dtype: int64\n"
     ]
    }
   ],
   "source": [
    "unique_list(y2)"
   ]
  },
  {
   "cell_type": "code",
   "execution_count": 635,
   "id": "71ea5222-4644-494f-a8ae-93712ddba445",
   "metadata": {},
   "outputs": [
    {
     "data": {
      "text/plain": [
       "0    [deathcore, punk, melodic, hardcore, metalcore]\n",
       "1      [melodeath, metal, melodic, death, technical]\n",
       "2     [death, metal, melodic, melodeath, folk, folk]\n",
       "3       [melodic, metalcore, post-hardcore, screamo]\n",
       "4     [deathcore, metalcore, post-hardcore, melodic]\n",
       "Name: genres, dtype: object"
      ]
     },
     "execution_count": 635,
     "metadata": {},
     "output_type": "execute_result"
    }
   ],
   "source": [
    "y2.head(5)"
   ]
  },
  {
   "cell_type": "code",
   "execution_count": 636,
   "id": "a7107323-a61c-46a6-806c-4263e06a3ee4",
   "metadata": {},
   "outputs": [],
   "source": [
    "y_clean = y2.apply(lambda x: remap(x, cleaning_map_multi)).apply(lambda x: genreclean (x, place_labels)).apply(lambda x: genreclean (x, place_labels)).apply(lambda x: genreclean(x, redundant)).apply(lambda x: genreclean(x, redundant)).apply(lambda x: stylesplit(x)).apply(lambda x: remap(x, cleaning_map_multi)).apply(lambda x: stylesplit(x)).apply(lambda x: remap(x, cleaning_map_single))"
   ]
  },
  {
   "cell_type": "code",
   "execution_count": 637,
   "id": "8a622327-4968-44c9-9aae-efad4163f868",
   "metadata": {},
   "outputs": [
    {
     "name": "stdout",
     "output_type": "stream",
     "text": [
      "metal            341\n",
      "metalcore        256\n",
      "melodic          233\n",
      "rock             139\n",
      "post-hardcore    135\n",
      "death             98\n",
      "symphonic         94\n",
      "alternative       88\n",
      "power             80\n",
      "deathcore         77\n",
      "progressive       68\n",
      "hard              58\n",
      "nu                57\n",
      "hardcore          50\n",
      "christian         44\n",
      "slayer            41\n",
      "gymcore           40\n",
      "black             38\n",
      "melodeath         36\n",
      "screamo           34\n",
      "neo               30\n",
      "groove            29\n",
      "rap               28\n",
      "technical         28\n",
      "gothic            28\n",
      "modern            25\n",
      "punk              24\n",
      "trancecore        23\n",
      "folk              22\n",
      "thrash            21\n",
      "speed             20\n",
      "pop               19\n",
      "djent             17\n",
      "deep              16\n",
      "hair              15\n",
      "comic             13\n",
      "metallic          13\n",
      "post-grunge       12\n",
      "pixie             10\n",
      "classic           10\n",
      "industrial         9\n",
      "mathcore           8\n",
      "opera              8\n",
      "heavy              7\n",
      "otacore            5\n",
      "electronic         4\n",
      "Name: genres, dtype: int64\n"
     ]
    }
   ],
   "source": [
    "unique_list(y_clean)"
   ]
  },
  {
   "cell_type": "code",
   "execution_count": 638,
   "id": "b207d860-7268-42ab-aac1-bda19709d5a7",
   "metadata": {},
   "outputs": [],
   "source": [
    "def remove_dupes(row):\n",
    "    newlist = []\n",
    "    for item in row:\n",
    "        if item not in newlist:\n",
    "            newlist.append(item)\n",
    "        else:\n",
    "            continue\n",
    "    return newlist"
   ]
  },
  {
   "cell_type": "code",
   "execution_count": 646,
   "id": "65035197-71ae-4cfa-926f-c75b153cb609",
   "metadata": {},
   "outputs": [
    {
     "data": {
      "text/plain": [
       "689"
      ]
     },
     "execution_count": 646,
     "metadata": {},
     "output_type": "execute_result"
    }
   ],
   "source": [
    "len(y2_clean)"
   ]
  },
  {
   "cell_type": "code",
   "execution_count": 647,
   "id": "470ec296-e4c0-47c1-9558-e8ed9d6141a0",
   "metadata": {},
   "outputs": [],
   "source": [
    "y2_clean = y2_clean.apply(lambda x: remove_dupes(x))"
   ]
  },
  {
   "cell_type": "code",
   "execution_count": 650,
   "id": "d571b31a-4a37-4a61-89f6-ab0b7994a47e",
   "metadata": {},
   "outputs": [],
   "source": [
    "y2_clean.to_csv('../data/genrelabels.csv', columns=['genres'], index=False)"
   ]
  },
  {
   "cell_type": "code",
   "execution_count": 649,
   "id": "d74828ff-7a6b-4bc1-b871-893665d45de4",
   "metadata": {},
   "outputs": [
    {
     "data": {
      "text/plain": [
       "0    [deathcore, punk, melodic, hardcore, metalcore]\n",
       "1      [melodeath, metal, melodic, death, technical]\n",
       "2     [death, metal, melodic, melodeath, folk, folk]\n",
       "3       [melodic, metalcore, post-hardcore, screamo]\n",
       "4     [deathcore, metalcore, post-hardcore, melodic]\n",
       "Name: genres, dtype: object"
      ]
     },
     "execution_count": 649,
     "metadata": {},
     "output_type": "execute_result"
    }
   ],
   "source": [
    "data['genres'].head()"
   ]
  },
  {
   "cell_type": "code",
   "execution_count": 651,
   "id": "f91ff37e-95f7-4b2a-a418-5bb944abb9d3",
   "metadata": {},
   "outputs": [
    {
     "data": {
      "text/plain": [
       "0    [deathcore, punk, melodic, hardcore, metalcore]\n",
       "1      [melodeath, metal, melodic, death, technical]\n",
       "2           [death, metal, melodic, melodeath, folk]\n",
       "3       [melodic, metalcore, post-hardcore, screamo]\n",
       "4     [deathcore, metalcore, post-hardcore, melodic]\n",
       "Name: genres, dtype: object"
      ]
     },
     "execution_count": 651,
     "metadata": {},
     "output_type": "execute_result"
    }
   ],
   "source": [
    "data['genres'] = y2_clean\n",
    "data['genres'].head()"
   ]
  },
  {
   "cell_type": "code",
   "execution_count": 652,
   "id": "ee6171d0-1bc5-44b3-9208-c6d11ea2f8ec",
   "metadata": {},
   "outputs": [],
   "source": [
    "data.to_csv('../data/tracklist_spectrograms.csv', columns=data.columns, index=False)"
   ]
  },
  {
   "cell_type": "markdown",
   "id": "2704f479-2dee-4f1c-8c44-e8e755ed286a",
   "metadata": {},
   "source": [
    "#### Masking commands to search rows"
   ]
  },
  {
   "cell_type": "code",
   "execution_count": 626,
   "id": "2796d453-00df-45cc-bbd4-549d05ee4e07",
   "metadata": {},
   "outputs": [],
   "source": [
    "selection = ['indie']\n",
    "mask = data2.genres.apply(lambda x: any(item for item in selection if item in x))"
   ]
  },
  {
   "cell_type": "code",
   "execution_count": 627,
   "id": "0122d5b5-61f7-49a1-9088-e2501ba69825",
   "metadata": {},
   "outputs": [],
   "source": [
    "df1 = data2[mask]"
   ]
  },
  {
   "cell_type": "code",
   "execution_count": 628,
   "id": "5782a7cb-e8f4-4395-834f-895c5d24344b",
   "metadata": {},
   "outputs": [
    {
     "data": {
      "text/html": [
       "<div>\n",
       "<style scoped>\n",
       "    .dataframe tbody tr th:only-of-type {\n",
       "        vertical-align: middle;\n",
       "    }\n",
       "\n",
       "    .dataframe tbody tr th {\n",
       "        vertical-align: top;\n",
       "    }\n",
       "\n",
       "    .dataframe thead th {\n",
       "        text-align: right;\n",
       "    }\n",
       "</style>\n",
       "<table border=\"1\" class=\"dataframe\">\n",
       "  <thead>\n",
       "    <tr style=\"text-align: right;\">\n",
       "      <th></th>\n",
       "      <th>track_name</th>\n",
       "      <th>artist</th>\n",
       "      <th>album</th>\n",
       "      <th>track_url</th>\n",
       "      <th>preview_url</th>\n",
       "      <th>artist_url</th>\n",
       "      <th>genres</th>\n",
       "      <th>file_location</th>\n",
       "      <th>spectrogram</th>\n",
       "    </tr>\n",
       "  </thead>\n",
       "  <tbody>\n",
       "    <tr>\n",
       "      <th>132</th>\n",
       "      <td>fleahouse</td>\n",
       "      <td>Static Dress</td>\n",
       "      <td>fleahouse</td>\n",
       "      <td>https://api.spotify.com/v1/tracks/5stza5CaQ0wU...</td>\n",
       "      <td>https://p.scdn.co/mp3-preview/00f4ce84483e3844...</td>\n",
       "      <td>https://api.spotify.com/v1/artists/1Lqdsv7Ff4G...</td>\n",
       "      <td>[indie, rock]</td>\n",
       "      <td>../data/audio/fleahouse-Static Dress.wav</td>\n",
       "      <td>../data/images/spectrograms/fleahouse_Static D...</td>\n",
       "    </tr>\n",
       "    <tr>\n",
       "      <th>314</th>\n",
       "      <td>Unwavering Vow</td>\n",
       "      <td>Counterparts</td>\n",
       "      <td>Unwavering Vow</td>\n",
       "      <td>https://api.spotify.com/v1/tracks/6GGl1K5qvkGH...</td>\n",
       "      <td>https://p.scdn.co/mp3-preview/3c62ee1f556c2065...</td>\n",
       "      <td>https://api.spotify.com/v1/artists/5LyRnL0rysO...</td>\n",
       "      <td>[hardcore, metal, deep, melodic, metalcore, in...</td>\n",
       "      <td>../data/audio/Unwavering Vow-Counterparts.wav</td>\n",
       "      <td>NaN</td>\n",
       "    </tr>\n",
       "    <tr>\n",
       "      <th>369</th>\n",
       "      <td>Enigmatic Pandemonium</td>\n",
       "      <td>DeadSquad</td>\n",
       "      <td>Enigmatic Pandemonium</td>\n",
       "      <td>https://api.spotify.com/v1/tracks/34UhDLlXksoH...</td>\n",
       "      <td>https://p.scdn.co/mp3-preview/867cb10dfe7a6761...</td>\n",
       "      <td>https://api.spotify.com/v1/artists/2By8ec9DQOn...</td>\n",
       "      <td>[death, metal, deathcore, hardcore, indie]</td>\n",
       "      <td>../data/audio/Enigmatic Pandemonium-DeadSquad.wav</td>\n",
       "      <td>NaN</td>\n",
       "    </tr>\n",
       "    <tr>\n",
       "      <th>510</th>\n",
       "      <td>Bound to the Burn</td>\n",
       "      <td>Counterparts</td>\n",
       "      <td>Bound to the Burn</td>\n",
       "      <td>https://api.spotify.com/v1/tracks/20o8X0BXhRg5...</td>\n",
       "      <td>https://p.scdn.co/mp3-preview/b494664320aac69e...</td>\n",
       "      <td>https://api.spotify.com/v1/artists/5LyRnL0rysO...</td>\n",
       "      <td>[hardcore, metal, deep, melodic, metalcore, in...</td>\n",
       "      <td>../data/audio/Bound to the Burn-Counterparts.wav</td>\n",
       "      <td>NaN</td>\n",
       "    </tr>\n",
       "    <tr>\n",
       "      <th>588</th>\n",
       "      <td>A Mass Grave of Saints</td>\n",
       "      <td>Counterparts</td>\n",
       "      <td>A Eulogy for Those Still Here</td>\n",
       "      <td>https://api.spotify.com/v1/tracks/5e6DXLYRsfsz...</td>\n",
       "      <td>https://p.scdn.co/mp3-preview/71fc516b8232b8b8...</td>\n",
       "      <td>https://api.spotify.com/v1/artists/5LyRnL0rysO...</td>\n",
       "      <td>[hardcore, metal, deep, melodic, metalcore, in...</td>\n",
       "      <td>../data/audio/A Mass Grave of Saints-Counterpa...</td>\n",
       "      <td>NaN</td>\n",
       "    </tr>\n",
       "    <tr>\n",
       "      <th>674</th>\n",
       "      <td>Loaded</td>\n",
       "      <td>Girish And The Chronicles</td>\n",
       "      <td>Loaded</td>\n",
       "      <td>https://api.spotify.com/v1/tracks/4bLD1n1lHezn...</td>\n",
       "      <td>https://p.scdn.co/mp3-preview/d582cc4f27fdece2...</td>\n",
       "      <td>https://api.spotify.com/v1/artists/2ESmfBoAhgO...</td>\n",
       "      <td>[rock, indie]</td>\n",
       "      <td>../data/audio/Loaded-Girish And The Chronicles...</td>\n",
       "      <td>NaN</td>\n",
       "    </tr>\n",
       "  </tbody>\n",
       "</table>\n",
       "</div>"
      ],
      "text/plain": [
       "                 track_name                     artist  \\\n",
       "132               fleahouse               Static Dress   \n",
       "314          Unwavering Vow               Counterparts   \n",
       "369   Enigmatic Pandemonium                  DeadSquad   \n",
       "510       Bound to the Burn               Counterparts   \n",
       "588  A Mass Grave of Saints               Counterparts   \n",
       "674                  Loaded  Girish And The Chronicles   \n",
       "\n",
       "                             album  \\\n",
       "132                      fleahouse   \n",
       "314                 Unwavering Vow   \n",
       "369          Enigmatic Pandemonium   \n",
       "510              Bound to the Burn   \n",
       "588  A Eulogy for Those Still Here   \n",
       "674                         Loaded   \n",
       "\n",
       "                                             track_url  \\\n",
       "132  https://api.spotify.com/v1/tracks/5stza5CaQ0wU...   \n",
       "314  https://api.spotify.com/v1/tracks/6GGl1K5qvkGH...   \n",
       "369  https://api.spotify.com/v1/tracks/34UhDLlXksoH...   \n",
       "510  https://api.spotify.com/v1/tracks/20o8X0BXhRg5...   \n",
       "588  https://api.spotify.com/v1/tracks/5e6DXLYRsfsz...   \n",
       "674  https://api.spotify.com/v1/tracks/4bLD1n1lHezn...   \n",
       "\n",
       "                                           preview_url  \\\n",
       "132  https://p.scdn.co/mp3-preview/00f4ce84483e3844...   \n",
       "314  https://p.scdn.co/mp3-preview/3c62ee1f556c2065...   \n",
       "369  https://p.scdn.co/mp3-preview/867cb10dfe7a6761...   \n",
       "510  https://p.scdn.co/mp3-preview/b494664320aac69e...   \n",
       "588  https://p.scdn.co/mp3-preview/71fc516b8232b8b8...   \n",
       "674  https://p.scdn.co/mp3-preview/d582cc4f27fdece2...   \n",
       "\n",
       "                                            artist_url  \\\n",
       "132  https://api.spotify.com/v1/artists/1Lqdsv7Ff4G...   \n",
       "314  https://api.spotify.com/v1/artists/5LyRnL0rysO...   \n",
       "369  https://api.spotify.com/v1/artists/2By8ec9DQOn...   \n",
       "510  https://api.spotify.com/v1/artists/5LyRnL0rysO...   \n",
       "588  https://api.spotify.com/v1/artists/5LyRnL0rysO...   \n",
       "674  https://api.spotify.com/v1/artists/2ESmfBoAhgO...   \n",
       "\n",
       "                                                genres  \\\n",
       "132                                      [indie, rock]   \n",
       "314  [hardcore, metal, deep, melodic, metalcore, in...   \n",
       "369         [death, metal, deathcore, hardcore, indie]   \n",
       "510  [hardcore, metal, deep, melodic, metalcore, in...   \n",
       "588  [hardcore, metal, deep, melodic, metalcore, in...   \n",
       "674                                      [rock, indie]   \n",
       "\n",
       "                                         file_location  \\\n",
       "132           ../data/audio/fleahouse-Static Dress.wav   \n",
       "314      ../data/audio/Unwavering Vow-Counterparts.wav   \n",
       "369  ../data/audio/Enigmatic Pandemonium-DeadSquad.wav   \n",
       "510   ../data/audio/Bound to the Burn-Counterparts.wav   \n",
       "588  ../data/audio/A Mass Grave of Saints-Counterpa...   \n",
       "674  ../data/audio/Loaded-Girish And The Chronicles...   \n",
       "\n",
       "                                           spectrogram  \n",
       "132  ../data/images/spectrograms/fleahouse_Static D...  \n",
       "314                                                NaN  \n",
       "369                                                NaN  \n",
       "510                                                NaN  \n",
       "588                                                NaN  \n",
       "674                                                NaN  "
      ]
     },
     "execution_count": 628,
     "metadata": {},
     "output_type": "execute_result"
    }
   ],
   "source": [
    "df1"
   ]
  },
  {
   "cell_type": "code",
   "execution_count": 629,
   "id": "35735bc6-f609-4e75-8068-9d6948e3cbed",
   "metadata": {},
   "outputs": [
    {
     "name": "stdout",
     "output_type": "stream",
     "text": [
      "https://p.scdn.co/mp3-preview/00f4ce84483e384461d9082f6856806e7e07eaa3?cid=016bbd488622437fa723a88f3f51b789\n",
      "https://p.scdn.co/mp3-preview/3c62ee1f556c2065ed24ab2eb913b215afc3f8ad?cid=016bbd488622437fa723a88f3f51b789\n",
      "https://p.scdn.co/mp3-preview/867cb10dfe7a67611f6010dba9442aa329988b4b?cid=016bbd488622437fa723a88f3f51b789\n",
      "https://p.scdn.co/mp3-preview/b494664320aac69ec2e477f1cc58adf2d6317acf?cid=016bbd488622437fa723a88f3f51b789\n",
      "https://p.scdn.co/mp3-preview/71fc516b8232b8b870c1249e1d16ae40f01c45c1?cid=016bbd488622437fa723a88f3f51b789\n",
      "https://p.scdn.co/mp3-preview/d582cc4f27fdece265fdd8f5cfe2030f43975ea1?cid=016bbd488622437fa723a88f3f51b789\n"
     ]
    }
   ],
   "source": [
    "for row in df1['preview_url']:\n",
    "    print(row)"
   ]
  },
  {
   "cell_type": "code",
   "execution_count": null,
   "id": "33cbdf76-1ebe-4282-ad56-6edebfcb07f8",
   "metadata": {},
   "outputs": [],
   "source": []
  }
 ],
 "metadata": {
  "kernelspec": {
   "display_name": "Python 3 (ipykernel)",
   "language": "python",
   "name": "python3"
  },
  "language_info": {
   "codemirror_mode": {
    "name": "ipython",
    "version": 3
   },
   "file_extension": ".py",
   "mimetype": "text/x-python",
   "name": "python",
   "nbconvert_exporter": "python",
   "pygments_lexer": "ipython3",
   "version": "3.9.7"
  }
 },
 "nbformat": 4,
 "nbformat_minor": 5
}
