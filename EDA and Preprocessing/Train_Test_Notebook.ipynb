{
 "cells": [
  {
   "cell_type": "code",
   "execution_count": 97,
   "id": "4d3a024b-ce93-4bb4-8802-6891847a8a28",
   "metadata": {},
   "outputs": [],
   "source": [
    "import sys\n",
    "sys.path.append('../')\n",
    "\n",
    "import pandas as pd\n",
    "import numpy as np\n",
    "import re"
   ]
  },
  {
   "cell_type": "code",
   "execution_count": 98,
   "id": "7c908c78-ffd1-4916-9939-7a35cb5cd2c0",
   "metadata": {},
   "outputs": [],
   "source": [
    "data = pd.read_csv(\"../data/tracklist_spectrograms.csv\", sep=\",\")"
   ]
  },
  {
   "cell_type": "code",
   "execution_count": null,
   "id": "45febf82-2628-4c57-874d-033ec603c360",
   "metadata": {},
   "outputs": [
    {
     "data": {
      "text/html": [
       "<div>\n",
       "<style scoped>\n",
       "    .dataframe tbody tr th:only-of-type {\n",
       "        vertical-align: middle;\n",
       "    }\n",
       "\n",
       "    .dataframe tbody tr th {\n",
       "        vertical-align: top;\n",
       "    }\n",
       "\n",
       "    .dataframe thead th {\n",
       "        text-align: right;\n",
       "    }\n",
       "</style>\n",
       "<table border=\"1\" class=\"dataframe\">\n",
       "  <thead>\n",
       "    <tr style=\"text-align: right;\">\n",
       "      <th></th>\n",
       "      <th>track_name</th>\n",
       "      <th>artist</th>\n",
       "      <th>album</th>\n",
       "      <th>track_url</th>\n",
       "      <th>preview_url</th>\n",
       "      <th>artist_url</th>\n",
       "      <th>genres</th>\n",
       "      <th>file_location</th>\n",
       "      <th>spectrogram</th>\n",
       "    </tr>\n",
       "  </thead>\n",
       "  <tbody>\n",
       "    <tr>\n",
       "      <th>0</th>\n",
       "      <td>Guillotine</td>\n",
       "      <td>Stray From The Path</td>\n",
       "      <td>Guillotine</td>\n",
       "      <td>https://api.spotify.com/v1/tracks/5mWs0zabZrRE...</td>\n",
       "      <td>https://p.scdn.co/mp3-preview/dbd5861d09ee540c...</td>\n",
       "      <td>https://api.spotify.com/v1/artists/5tGG1slV9pk...</td>\n",
       "      <td>['deathcore', 'punk', 'melodic', 'hardcore', '...</td>\n",
       "      <td>../data/audio/Guillotine-Stray From The Path.wav</td>\n",
       "      <td>../data/images/spectrograms/Guillotine_Stray F...</td>\n",
       "    </tr>\n",
       "    <tr>\n",
       "      <th>1</th>\n",
       "      <td>Vermin</td>\n",
       "      <td>Allegaeon</td>\n",
       "      <td>DAMNUM</td>\n",
       "      <td>https://api.spotify.com/v1/tracks/6FDLIsQnjDx5...</td>\n",
       "      <td>https://p.scdn.co/mp3-preview/7d8fba2941244a72...</td>\n",
       "      <td>https://api.spotify.com/v1/artists/5NIvyOvy39l...</td>\n",
       "      <td>['melodeath', 'metal', 'melodic', 'death', 'te...</td>\n",
       "      <td>../data/audio/Vermin-Allegaeon.wav</td>\n",
       "      <td>../data/images/spectrograms/Vermin_Allegaeon_s...</td>\n",
       "    </tr>\n",
       "    <tr>\n",
       "      <th>2</th>\n",
       "      <td>Put Your Back Into The Oar</td>\n",
       "      <td>Amon Amarth</td>\n",
       "      <td>Put Your Back Into The Oar</td>\n",
       "      <td>https://api.spotify.com/v1/tracks/4fY2JR0REUiy...</td>\n",
       "      <td>https://p.scdn.co/mp3-preview/d2253d713457b378...</td>\n",
       "      <td>https://api.spotify.com/v1/artists/3pulcT2wt7F...</td>\n",
       "      <td>['death', 'metal', 'melodic', 'melodeath', 'fo...</td>\n",
       "      <td>../data/audio/Put Your Back Into The Oar-Amon ...</td>\n",
       "      <td>../data/images/spectrograms/Put Your Back Into...</td>\n",
       "    </tr>\n",
       "    <tr>\n",
       "      <th>3</th>\n",
       "      <td>Make Believe</td>\n",
       "      <td>Memphis May Fire</td>\n",
       "      <td>Make Believe</td>\n",
       "      <td>https://api.spotify.com/v1/tracks/5NLi9YVXt9pM...</td>\n",
       "      <td>https://p.scdn.co/mp3-preview/50d174c4df0bdff7...</td>\n",
       "      <td>https://api.spotify.com/v1/artists/7cNNNhdJDrt...</td>\n",
       "      <td>['melodic', 'metalcore', 'post-hardcore', 'scr...</td>\n",
       "      <td>../data/audio/Make Believe-Memphis May Fire.wav</td>\n",
       "      <td>../data/images/spectrograms/Make Believe_Memph...</td>\n",
       "    </tr>\n",
       "    <tr>\n",
       "      <th>4</th>\n",
       "      <td>Dystopia (feat. Christoph Wieczorek of Annisokay)</td>\n",
       "      <td>Caliban</td>\n",
       "      <td>Dystopia (feat. Christoph Wieczorek of Annisokay)</td>\n",
       "      <td>https://api.spotify.com/v1/tracks/2WaaniEgnI8p...</td>\n",
       "      <td>https://p.scdn.co/mp3-preview/927ee1c9965680c1...</td>\n",
       "      <td>https://api.spotify.com/v1/artists/1oeo6cC9Fqa...</td>\n",
       "      <td>['deathcore', 'metalcore', 'post-hardcore', 'm...</td>\n",
       "      <td>../data/audio/Dystopia feat Christoph Wieczore...</td>\n",
       "      <td>../data/images/spectrograms/Dystopia feat Chri...</td>\n",
       "    </tr>\n",
       "  </tbody>\n",
       "</table>\n",
       "</div>"
      ],
      "text/plain": [
       "                                          track_name               artist  \\\n",
       "0                                         Guillotine  Stray From The Path   \n",
       "1                                             Vermin            Allegaeon   \n",
       "2                         Put Your Back Into The Oar          Amon Amarth   \n",
       "3                                       Make Believe     Memphis May Fire   \n",
       "4  Dystopia (feat. Christoph Wieczorek of Annisokay)              Caliban   \n",
       "\n",
       "                                               album  \\\n",
       "0                                         Guillotine   \n",
       "1                                             DAMNUM   \n",
       "2                         Put Your Back Into The Oar   \n",
       "3                                       Make Believe   \n",
       "4  Dystopia (feat. Christoph Wieczorek of Annisokay)   \n",
       "\n",
       "                                           track_url  \\\n",
       "0  https://api.spotify.com/v1/tracks/5mWs0zabZrRE...   \n",
       "1  https://api.spotify.com/v1/tracks/6FDLIsQnjDx5...   \n",
       "2  https://api.spotify.com/v1/tracks/4fY2JR0REUiy...   \n",
       "3  https://api.spotify.com/v1/tracks/5NLi9YVXt9pM...   \n",
       "4  https://api.spotify.com/v1/tracks/2WaaniEgnI8p...   \n",
       "\n",
       "                                         preview_url  \\\n",
       "0  https://p.scdn.co/mp3-preview/dbd5861d09ee540c...   \n",
       "1  https://p.scdn.co/mp3-preview/7d8fba2941244a72...   \n",
       "2  https://p.scdn.co/mp3-preview/d2253d713457b378...   \n",
       "3  https://p.scdn.co/mp3-preview/50d174c4df0bdff7...   \n",
       "4  https://p.scdn.co/mp3-preview/927ee1c9965680c1...   \n",
       "\n",
       "                                          artist_url  \\\n",
       "0  https://api.spotify.com/v1/artists/5tGG1slV9pk...   \n",
       "1  https://api.spotify.com/v1/artists/5NIvyOvy39l...   \n",
       "2  https://api.spotify.com/v1/artists/3pulcT2wt7F...   \n",
       "3  https://api.spotify.com/v1/artists/7cNNNhdJDrt...   \n",
       "4  https://api.spotify.com/v1/artists/1oeo6cC9Fqa...   \n",
       "\n",
       "                                              genres  \\\n",
       "0  ['deathcore', 'punk', 'melodic', 'hardcore', '...   \n",
       "1  ['melodeath', 'metal', 'melodic', 'death', 'te...   \n",
       "2  ['death', 'metal', 'melodic', 'melodeath', 'fo...   \n",
       "3  ['melodic', 'metalcore', 'post-hardcore', 'scr...   \n",
       "4  ['deathcore', 'metalcore', 'post-hardcore', 'm...   \n",
       "\n",
       "                                       file_location  \\\n",
       "0   ../data/audio/Guillotine-Stray From The Path.wav   \n",
       "1                 ../data/audio/Vermin-Allegaeon.wav   \n",
       "2  ../data/audio/Put Your Back Into The Oar-Amon ...   \n",
       "3    ../data/audio/Make Believe-Memphis May Fire.wav   \n",
       "4  ../data/audio/Dystopia feat Christoph Wieczore...   \n",
       "\n",
       "                                         spectrogram  \n",
       "0  ../data/images/spectrograms/Guillotine_Stray F...  \n",
       "1  ../data/images/spectrograms/Vermin_Allegaeon_s...  \n",
       "2  ../data/images/spectrograms/Put Your Back Into...  \n",
       "3  ../data/images/spectrograms/Make Believe_Memph...  \n",
       "4  ../data/images/spectrograms/Dystopia feat Chri...  "
      ]
     },
     "execution_count": 99,
     "metadata": {},
     "output_type": "execute_result"
    }
   ],
   "source": [
    "data.head()"
   ]
  },
  {
   "cell_type": "code",
   "execution_count": 100,
   "id": "33446b00-b4b5-493d-bb5b-64ed66526544",
   "metadata": {},
   "outputs": [
    {
     "data": {
      "text/plain": [
       "0      ['deathcore', 'punk', 'melodic', 'hardcore', '...\n",
       "1      ['melodeath', 'metal', 'melodic', 'death', 'te...\n",
       "2      ['death', 'metal', 'melodic', 'melodeath', 'fo...\n",
       "3      ['melodic', 'metalcore', 'post-hardcore', 'scr...\n",
       "4      ['deathcore', 'metalcore', 'post-hardcore', 'm...\n",
       "                             ...                        \n",
       "683    ['melodic', 'metalcore', 'post-hardcore', 'scr...\n",
       "684                                            ['metal']\n",
       "685    ['christian', 'metal', 'metalcore', 'melodic',...\n",
       "686                     ['gymcore', 'metalcore', 'rock']\n",
       "687                                            ['pixie']\n",
       "Name: genres, Length: 688, dtype: object"
      ]
     },
     "execution_count": 100,
     "metadata": {},
     "output_type": "execute_result"
    }
   ],
   "source": [
    "data['genres']"
   ]
  },
  {
   "cell_type": "code",
   "execution_count": 101,
   "id": "81d722c8-18c3-45a7-a317-22eaa5200ade",
   "metadata": {},
   "outputs": [],
   "source": [
    "def string_clean(row):\n",
    "    newlist = re.sub(r\"[^a-zA-Z0-9 ,]\", \"\", row).split(', ')\n",
    "    return newlist"
   ]
  },
  {
   "cell_type": "code",
   "execution_count": 102,
   "id": "15d385e5-f28d-4a29-bae6-c630a19f6a96",
   "metadata": {},
   "outputs": [],
   "source": [
    "data['genres'] = data['genres'].apply(lambda x: string_clean(x))"
   ]
  },
  {
   "cell_type": "code",
   "execution_count": 103,
   "id": "37e02219-eaae-46fb-9136-f32bf941941d",
   "metadata": {},
   "outputs": [
    {
     "data": {
      "text/plain": [
       "0        [deathcore, punk, melodic, hardcore, metalcore]\n",
       "1          [melodeath, metal, melodic, death, technical]\n",
       "2               [death, metal, melodic, melodeath, folk]\n",
       "3            [melodic, metalcore, posthardcore, screamo]\n",
       "4          [deathcore, metalcore, posthardcore, melodic]\n",
       "                             ...                        \n",
       "683    [melodic, metalcore, posthardcore, screamo, tr...\n",
       "684                                              [metal]\n",
       "685      [christian, metal, metalcore, melodic, screamo]\n",
       "686                           [gymcore, metalcore, rock]\n",
       "687                                              [pixie]\n",
       "Name: genres, Length: 688, dtype: object"
      ]
     },
     "execution_count": 103,
     "metadata": {},
     "output_type": "execute_result"
    }
   ],
   "source": [
    "data['genres']"
   ]
  },
  {
   "cell_type": "code",
   "execution_count": 104,
   "id": "4d481681-b1dc-47d0-977c-5188ea1c3e5a",
   "metadata": {},
   "outputs": [],
   "source": [
    "def remove_constants(row):\n",
    "    if len(row) > 2:\n",
    "        newlist = []\n",
    "        for i in range(len(row)):\n",
    "            if row[i] != 'metal':\n",
    "                newlist.append(row[i])\n",
    "        return newlist\n",
    "    else:\n",
    "        newlist = [item for item in row]\n",
    "        return newlist\n"
   ]
  },
  {
   "cell_type": "code",
   "execution_count": 105,
   "id": "c5d8d0df-61db-4670-83c4-d4b3c3bdd1eb",
   "metadata": {},
   "outputs": [],
   "source": [
    "data['genres'] = data['genres'].apply(lambda x: remove_constants(x))"
   ]
  },
  {
   "cell_type": "code",
   "execution_count": 106,
   "id": "1b86d56c-cb50-44ef-bcac-98e66b04ccda",
   "metadata": {},
   "outputs": [
    {
     "data": {
      "text/plain": [
       "['christian', 'metalcore', 'melodic', 'screamo']"
      ]
     },
     "execution_count": 106,
     "metadata": {},
     "output_type": "execute_result"
    }
   ],
   "source": [
    "data['genres'][685]"
   ]
  },
  {
   "cell_type": "code",
   "execution_count": 107,
   "id": "79131de4-7233-4a63-8141-197d87563a58",
   "metadata": {},
   "outputs": [
    {
     "data": {
      "text/plain": [
       "0        [deathcore, punk, melodic, hardcore, metalcore]\n",
       "1                 [melodeath, melodic, death, technical]\n",
       "2                      [death, melodic, melodeath, folk]\n",
       "3            [melodic, metalcore, posthardcore, screamo]\n",
       "4          [deathcore, metalcore, posthardcore, melodic]\n",
       "                             ...                        \n",
       "683    [melodic, metalcore, posthardcore, screamo, tr...\n",
       "684                                              [metal]\n",
       "685             [christian, metalcore, melodic, screamo]\n",
       "686                           [gymcore, metalcore, rock]\n",
       "687                                              [pixie]\n",
       "Name: genres, Length: 688, dtype: object"
      ]
     },
     "execution_count": 107,
     "metadata": {},
     "output_type": "execute_result"
    }
   ],
   "source": [
    "data['genres']"
   ]
  },
  {
   "cell_type": "code",
   "execution_count": 109,
   "id": "5afac90b-ecf5-4fb7-8c8e-9c4adec8d0a5",
   "metadata": {},
   "outputs": [],
   "source": [
    "df = data.loc[:, ['track_name', 'artist', 'spectrogram', 'genres']]"
   ]
  },
  {
   "cell_type": "code",
   "execution_count": 111,
   "id": "b5fdbeeb-6522-430d-bb19-70a7bb66ae8f",
   "metadata": {},
   "outputs": [],
   "source": [
    "df.to_csv('../data/final_dataset.csv', index=False)"
   ]
  },
  {
   "cell_type": "code",
   "execution_count": null,
   "id": "370b3e3e-4e07-4425-94c1-f19501860529",
   "metadata": {},
   "outputs": [],
   "source": []
  }
 ],
 "metadata": {
  "kernelspec": {
   "display_name": "Python 3 (ipykernel)",
   "language": "python",
   "name": "python3"
  },
  "language_info": {
   "codemirror_mode": {
    "name": "ipython",
    "version": 3
   },
   "file_extension": ".py",
   "mimetype": "text/x-python",
   "name": "python",
   "nbconvert_exporter": "python",
   "pygments_lexer": "ipython3",
   "version": "3.9.7"
  }
 },
 "nbformat": 4,
 "nbformat_minor": 5
}
