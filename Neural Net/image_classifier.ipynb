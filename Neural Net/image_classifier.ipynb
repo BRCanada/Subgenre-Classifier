{
 "cells": [
  {
   "cell_type": "code",
   "execution_count": 18,
   "id": "7e1c21fa-2645-4be5-8602-f55e3e08cf6e",
   "metadata": {},
   "outputs": [],
   "source": [
    "#Import sys for path adjustment\n",
    "import sys\n",
    "sys.path.append('../')\n",
    "\n",
    "#keras packages\n",
    "import keras\n",
    "from keras.models import Sequential\n",
    "from keras.layers import Dense, Dropout, Flatten, SpatialDropout2D\n",
    "from keras.layers import Conv2D, MaxPooling2D\n",
    "from keras.layers import BatchNormalization\n",
    "from keras.preprocessing import image\n",
    "from keras.callbacks import ReduceLROnPlateau\n",
    "\n",
    "#Dataframes and arrays\n",
    "import numpy as np\n",
    "import pandas as pd\n",
    "\n",
    "#dataviz\n",
    "import matplotlib.pyplot as plt\n",
    "%matplotlib inline\n",
    "\n",
    "#split\n",
    "from sklearn.model_selection import train_test_split\n",
    "\n",
    "#progress bar\n",
    "from tqdm import tqdm"
   ]
  },
  {
   "cell_type": "code",
   "execution_count": 2,
   "id": "c8908396-a7a7-4322-8dfd-a8012284d33e",
   "metadata": {},
   "outputs": [
    {
     "name": "stdout",
     "output_type": "stream",
     "text": [
      "                                          track_name               artist  \\\n",
      "0                                         Guillotine  Stray From The Path   \n",
      "1                                             Vermin            Allegaeon   \n",
      "2                         Put Your Back Into The Oar          Amon Amarth   \n",
      "3                                       Make Believe     Memphis May Fire   \n",
      "4  Dystopia (feat. Christoph Wieczorek of Annisokay)              Caliban   \n",
      "\n",
      "                                         spectrogram  \\\n",
      "0  ../data/images/spectrograms/Guillotine_StrayFr...   \n",
      "1  ../data/images/spectrograms/Vermin_Allegaeon_s...   \n",
      "2  ../data/images/spectrograms/PutYourBackIntoThe...   \n",
      "3  ../data/images/spectrograms/MakeBelieve_Memphi...   \n",
      "4  ../data/images/spectrograms/DystopiafeatChrist...   \n",
      "\n",
      "                                              genres  \n",
      "0  ['deathcore', 'punk', 'melodic', 'hardcore', '...  \n",
      "1     ['melodeath', 'melodic', 'death', 'technical']  \n",
      "2          ['death', 'melodic', 'melodeath', 'folk']  \n",
      "3  ['melodic', 'metalcore', 'posthardcore', 'scre...  \n",
      "4  ['deathcore', 'metalcore', 'posthardcore', 'me...  \n",
      "Index(['track_name', 'artist', 'spectrogram', 'genres'], dtype='object')\n",
      "   alternative  black  classic  death  deathcore  djent  electronic  folk  \\\n",
      "0            0      0        0      0          1      0           0     0   \n",
      "1            1      0        0      1          0      0           0     0   \n",
      "2            1      0        0      1          0      0           0     1   \n",
      "3            1      0        0      0          0      0           0     0   \n",
      "4            0      0        0      0          1      0           0     0   \n",
      "\n",
      "   gothic  groove  ...  nu  postgrunge  posthardcore  power  progressive  \\\n",
      "0       0       0  ...   0           0             0      0            0   \n",
      "1       0       0  ...   0           0             0      0            0   \n",
      "2       0       0  ...   0           0             0      0            0   \n",
      "3       0       0  ...   0           0             1      0            0   \n",
      "4       0       0  ...   0           0             1      0            0   \n",
      "\n",
      "   punk  rock  symphonic  technical  thrash  \n",
      "0     1     0          0          0       0  \n",
      "1     0     1          0          1       0  \n",
      "2     0     1          0          0       0  \n",
      "3     0     0          0          0       0  \n",
      "4     0     0          0          0       0  \n",
      "\n",
      "[5 rows x 27 columns]\n",
      "Index(['alternative', 'black', 'classic', 'death', 'deathcore', 'djent',\n",
      "       'electronic', 'folk', 'gothic', 'groove', 'hard', 'hardcore', 'heavy',\n",
      "       'melodic', 'metal', 'metalcore', 'modern', 'nu', 'postgrunge',\n",
      "       'posthardcore', 'power', 'progressive', 'punk', 'rock', 'symphonic',\n",
      "       'technical', 'thrash'],\n",
      "      dtype='object')\n"
     ]
    }
   ],
   "source": [
    "#import final dataframe\n",
    "df = pd.read_csv('../data/final_dataset.csv')\n",
    "print(df.head())\n",
    "print(df.columns)\n",
    "#import encoded labels\n",
    "y = pd.read_csv('../data/encoded_labels.csv')\n",
    "print(y.head())\n",
    "print(y.columns)"
   ]
  },
  {
   "cell_type": "code",
   "execution_count": 3,
   "id": "f3468b82-6b11-4677-a3b7-86abd84e4fe9",
   "metadata": {},
   "outputs": [],
   "source": [
    "imagepath = df['spectrogram']\n",
    "seed = 77"
   ]
  },
  {
   "cell_type": "code",
   "execution_count": 4,
   "id": "c7ac7794-1326-48d3-9376-04be781e6f23",
   "metadata": {},
   "outputs": [
    {
     "name": "stderr",
     "output_type": "stream",
     "text": [
      "100%|███████████████████████████████████████████████████████████████████████████████| 688/688 [00:05<00:00, 116.87it/s]\n"
     ]
    }
   ],
   "source": [
    "X_dataset = []\n",
    "for i in tqdm(range(df.shape[0])):\n",
    "    img = image.image_utils.load_img(imagepath[i], target_size=(1008,360,3))\n",
    "    img = image.image_utils.img_to_array(img)\n",
    "    img = img/255\n",
    "    X_dataset.append(img)"
   ]
  },
  {
   "cell_type": "code",
   "execution_count": 5,
   "id": "72ef4a12-2ba2-48fd-b2fe-ce80eb62043d",
   "metadata": {},
   "outputs": [],
   "source": [
    "X = np.array(X_dataset)"
   ]
  },
  {
   "cell_type": "code",
   "execution_count": 6,
   "id": "65d73afa-0627-4c84-b015-3ce4a71ccb83",
   "metadata": {},
   "outputs": [],
   "source": [
    "X_train, X_test, y_train, y_test = train_test_split(X, y, random_state=seed, test_size=0.3)"
   ]
  },
  {
   "cell_type": "code",
   "execution_count": 7,
   "id": "b95542d4-fa23-4dfd-be82-67f83103d4f3",
   "metadata": {},
   "outputs": [
    {
     "data": {
      "text/plain": [
       "(688, 1008, 360, 3)"
      ]
     },
     "execution_count": 7,
     "metadata": {},
     "output_type": "execute_result"
    }
   ],
   "source": [
    "X.shape"
   ]
  },
  {
   "cell_type": "markdown",
   "id": "4eb0a8a6-6749-4317-aaac-ae88429e8d6a",
   "metadata": {},
   "source": [
    "## Model"
   ]
  },
  {
   "cell_type": "code",
   "execution_count": 8,
   "id": "9344ac4c-b728-4cfa-94eb-190660c1d324",
   "metadata": {},
   "outputs": [],
   "source": [
    "model = Sequential()\n",
    "\n",
    "model.add(Conv2D(filters=16, kernel_size=(5,5), activation='relu', input_shape=(1008,360,3)))\n",
    "model.add(BatchNormalization())\n",
    "model.add(MaxPooling2D(pool_size=(2,2)))\n",
    "model.add(Dropout(0,2))\n",
    "\n",
    "model.add(Conv2D(filters=32, kernel_size=(5,5), activation='relu'))\n",
    "model.add(MaxPooling2D(pool_size=(2,2)))\n",
    "model.add(SpatialDropout2D(0.2))\n",
    "\n",
    "model.add(Conv2D(filters=64, kernel_size=(5,5), activation='relu'))\n",
    "model.add(BatchNormalization())\n",
    "model.add(MaxPooling2D(pool_size=(2,2)))\n",
    "model.add(Dropout(0,2))\n",
    "\n",
    "model.add(Conv2D(filters=128, kernel_size=(5,5), activation='relu'))\n",
    "model.add(MaxPooling2D(pool_size=(2,2)))\n",
    "model.add(SpatialDropout2D(0.2))\n",
    "\n",
    "model.add(Flatten())\n",
    "model.add(Dense(128, activation='relu'))\n",
    "model.add(Dropout(0.5))\n",
    "model.add(Dense(64, activation='relu'))\n",
    "model.add(Dropout(0.5))\n",
    "model.add(Dense(27, activation='sigmoid'))"
   ]
  },
  {
   "cell_type": "code",
   "execution_count": 9,
   "id": "113fad3f-08c5-46ca-9879-8964ac197849",
   "metadata": {},
   "outputs": [
    {
     "name": "stdout",
     "output_type": "stream",
     "text": [
      "Model: \"sequential\"\n",
      "_________________________________________________________________\n",
      " Layer (type)                Output Shape              Param #   \n",
      "=================================================================\n",
      " conv2d (Conv2D)             (None, 1004, 356, 16)     1216      \n",
      "                                                                 \n",
      " batch_normalization (BatchN  (None, 1004, 356, 16)    64        \n",
      " ormalization)                                                   \n",
      "                                                                 \n",
      " max_pooling2d (MaxPooling2D  (None, 502, 178, 16)     0         \n",
      " )                                                               \n",
      "                                                                 \n",
      " dropout (Dropout)           (None, 502, 178, 16)      0         \n",
      "                                                                 \n",
      " conv2d_1 (Conv2D)           (None, 498, 174, 32)      12832     \n",
      "                                                                 \n",
      " max_pooling2d_1 (MaxPooling  (None, 249, 87, 32)      0         \n",
      " 2D)                                                             \n",
      "                                                                 \n",
      " spatial_dropout2d (SpatialD  (None, 249, 87, 32)      0         \n",
      " ropout2D)                                                       \n",
      "                                                                 \n",
      " conv2d_2 (Conv2D)           (None, 245, 83, 64)       51264     \n",
      "                                                                 \n",
      " batch_normalization_1 (Batc  (None, 245, 83, 64)      256       \n",
      " hNormalization)                                                 \n",
      "                                                                 \n",
      " max_pooling2d_2 (MaxPooling  (None, 122, 41, 64)      0         \n",
      " 2D)                                                             \n",
      "                                                                 \n",
      " dropout_1 (Dropout)         (None, 122, 41, 64)       0         \n",
      "                                                                 \n",
      " conv2d_3 (Conv2D)           (None, 118, 37, 128)      204928    \n",
      "                                                                 \n",
      " max_pooling2d_3 (MaxPooling  (None, 59, 18, 128)      0         \n",
      " 2D)                                                             \n",
      "                                                                 \n",
      " spatial_dropout2d_1 (Spatia  (None, 59, 18, 128)      0         \n",
      " lDropout2D)                                                     \n",
      "                                                                 \n",
      " flatten (Flatten)           (None, 135936)            0         \n",
      "                                                                 \n",
      " dense (Dense)               (None, 128)               17399936  \n",
      "                                                                 \n",
      " dropout_2 (Dropout)         (None, 128)               0         \n",
      "                                                                 \n",
      " dense_1 (Dense)             (None, 64)                8256      \n",
      "                                                                 \n",
      " dropout_3 (Dropout)         (None, 64)                0         \n",
      "                                                                 \n",
      " dense_2 (Dense)             (None, 27)                1755      \n",
      "                                                                 \n",
      "=================================================================\n",
      "Total params: 17,680,507\n",
      "Trainable params: 17,680,347\n",
      "Non-trainable params: 160\n",
      "_________________________________________________________________\n"
     ]
    }
   ],
   "source": [
    "# Check the model to verify it's structure\n",
    "model.summary()"
   ]
  },
  {
   "cell_type": "code",
   "execution_count": 10,
   "id": "68027e58-ad29-4e72-ac9b-f7d088e70cec",
   "metadata": {},
   "outputs": [],
   "source": [
    "reduce_lr = ReduceLROnPlateau(monitor='val_loss', factor=0.2,\n",
    "                              patience=5, min_lr=0.000001)"
   ]
  },
  {
   "cell_type": "code",
   "execution_count": 11,
   "id": "24f60b82-67de-44e6-8c64-590b6be8e075",
   "metadata": {},
   "outputs": [],
   "source": [
    "#compile the model\n",
    "model.compile(optimizer='adam', \n",
    "              loss='binary_crossentropy', \n",
    "              metrics=['accuracy'])"
   ]
  },
  {
   "cell_type": "code",
   "execution_count": 12,
   "id": "44eaccde-fcaa-44dc-a9a5-12787516958c",
   "metadata": {},
   "outputs": [
    {
     "name": "stdout",
     "output_type": "stream",
     "text": [
      "Epoch 1/24\n",
      "16/16 [==============================] - 86s 5s/step - loss: 2.5922 - accuracy: 0.0270 - val_loss: 0.6865 - val_accuracy: 0.0821 - lr: 0.0010\n",
      "Epoch 2/24\n",
      "16/16 [==============================] - 85s 5s/step - loss: 0.6833 - accuracy: 0.0582 - val_loss: 0.6787 - val_accuracy: 0.0821 - lr: 0.0010\n",
      "Epoch 3/24\n",
      "16/16 [==============================] - 85s 5s/step - loss: 0.6756 - accuracy: 0.0644 - val_loss: 0.6640 - val_accuracy: 0.0725 - lr: 0.0010\n",
      "Epoch 4/24\n",
      "16/16 [==============================] - 86s 5s/step - loss: 0.6679 - accuracy: 0.0561 - val_loss: 0.6221 - val_accuracy: 0.1787 - lr: 0.0010\n",
      "Epoch 5/24\n",
      "16/16 [==============================] - 89s 6s/step - loss: 0.6605 - accuracy: 0.0644 - val_loss: 0.6381 - val_accuracy: 0.2271 - lr: 0.0010\n",
      "Epoch 6/24\n",
      "16/16 [==============================] - 90s 6s/step - loss: 0.6534 - accuracy: 0.0665 - val_loss: 0.6567 - val_accuracy: 0.2319 - lr: 0.0010\n",
      "Epoch 7/24\n",
      "16/16 [==============================] - 90s 6s/step - loss: 0.6462 - accuracy: 0.0624 - val_loss: 0.6583 - val_accuracy: 0.2222 - lr: 0.0010\n",
      "Epoch 8/24\n",
      "16/16 [==============================] - 92s 6s/step - loss: 0.6384 - accuracy: 0.0894 - val_loss: 0.6411 - val_accuracy: 0.1981 - lr: 0.0010\n",
      "Epoch 9/24\n",
      "16/16 [==============================] - 90s 6s/step - loss: 0.6304 - accuracy: 0.0790 - val_loss: 0.6054 - val_accuracy: 0.1594 - lr: 0.0010\n",
      "Epoch 10/24\n",
      "16/16 [==============================] - 88s 5s/step - loss: 0.6224 - accuracy: 0.0644 - val_loss: 0.5801 - val_accuracy: 0.1256 - lr: 0.0010\n",
      "Epoch 11/24\n",
      "16/16 [==============================] - 89s 6s/step - loss: 0.6142 - accuracy: 0.0728 - val_loss: 0.5797 - val_accuracy: 0.1159 - lr: 0.0010\n",
      "Epoch 12/24\n",
      "16/16 [==============================] - 92s 6s/step - loss: 0.6066 - accuracy: 0.0811 - val_loss: 0.5934 - val_accuracy: 0.0725 - lr: 0.0010\n",
      "Epoch 13/24\n",
      "16/16 [==============================] - 91s 6s/step - loss: 0.5980 - accuracy: 0.0603 - val_loss: 0.5900 - val_accuracy: 0.0821 - lr: 0.0010\n",
      "Epoch 14/24\n",
      "16/16 [==============================] - 89s 6s/step - loss: 0.5897 - accuracy: 0.0748 - val_loss: 0.5813 - val_accuracy: 0.0821 - lr: 0.0010\n",
      "Epoch 15/24\n",
      "16/16 [==============================] - 90s 6s/step - loss: 0.5797 - accuracy: 0.0832 - val_loss: 0.5712 - val_accuracy: 0.0821 - lr: 0.0010\n",
      "Epoch 16/24\n",
      "16/16 [==============================] - 89s 6s/step - loss: 0.5695 - accuracy: 0.0665 - val_loss: 0.5603 - val_accuracy: 0.0821 - lr: 0.0010\n",
      "Epoch 17/24\n",
      "16/16 [==============================] - 87s 5s/step - loss: 0.5608 - accuracy: 0.0644 - val_loss: 0.5490 - val_accuracy: 0.0821 - lr: 0.0010\n",
      "Epoch 18/24\n",
      "16/16 [==============================] - 89s 6s/step - loss: 0.5483 - accuracy: 0.0603 - val_loss: 0.5379 - val_accuracy: 0.0821 - lr: 0.0010\n",
      "Epoch 19/24\n",
      "16/16 [==============================] - 89s 6s/step - loss: 0.5391 - accuracy: 0.0665 - val_loss: 0.5263 - val_accuracy: 0.0821 - lr: 0.0010\n",
      "Epoch 20/24\n",
      "16/16 [==============================] - 89s 6s/step - loss: 0.5302 - accuracy: 0.0603 - val_loss: 0.5150 - val_accuracy: 0.0821 - lr: 0.0010\n",
      "Epoch 21/24\n",
      "16/16 [==============================] - 89s 6s/step - loss: 0.5175 - accuracy: 0.0665 - val_loss: 0.5037 - val_accuracy: 0.0821 - lr: 0.0010\n",
      "Epoch 22/24\n",
      "16/16 [==============================] - 89s 6s/step - loss: 0.5087 - accuracy: 0.0457 - val_loss: 0.4925 - val_accuracy: 0.0821 - lr: 0.0010\n",
      "Epoch 23/24\n",
      "16/16 [==============================] - 89s 6s/step - loss: 0.4966 - accuracy: 0.0624 - val_loss: 0.4812 - val_accuracy: 0.0821 - lr: 0.0010\n",
      "Epoch 24/24\n",
      "16/16 [==============================] - 88s 6s/step - loss: 0.4866 - accuracy: 0.0624 - val_loss: 0.4704 - val_accuracy: 0.0821 - lr: 0.0010\n"
     ]
    }
   ],
   "source": [
    "history = model.fit(X_train, y_train, epochs=24, batch_size=32, validation_data=(X_test,y_test), callbacks=[reduce_lr])"
   ]
  },
  {
   "cell_type": "code",
   "execution_count": 13,
   "id": "aa3a8af4-e81f-4e8b-a403-e80d0864fcab",
   "metadata": {
    "tags": []
   },
   "outputs": [
    {
     "data": {
      "image/png": "[encoded data removed]",
      "text/plain": [
       "<Figure size 720x360 with 1 Axes>"
      ]
     },
     "metadata": {
      "needs_background": "light"
     },
     "output_type": "display_data"
    }
   ],
   "source": [
    "# Loss Charts\n",
    "loss = history.history['loss']\n",
    "val_loss = history.history['val_loss']\n",
    "epochs = range(1, len(loss) +1)\n",
    "\n",
    "\n",
    "fig = plt.figure(figsize=(10,5))\n",
    "plt.plot(epochs, loss, 'y', label='Training loss')\n",
    "plt.plot(epochs, val_loss, 'r', label='Validation loss')\n",
    "plt.title('Training and validation loss')\n",
    "plt.xlabel('Epochs')\n",
    "plt.ylabel('Loss')\n",
    "plt.legend()\n",
    "plt.savefig('../data/images/charts/run10_training_val_loss.jpg')\n",
    "plt.show()"
   ]
  },
  {
   "cell_type": "code",
   "execution_count": 14,
   "id": "9e0d3efa-5900-4ad7-b785-a6bac3bb5631",
   "metadata": {},
   "outputs": [
    {
     "data": {
      "image/png": "[encoded data removed]",
      "text/plain": [
       "<Figure size 720x360 with 1 Axes>"
      ]
     },
     "metadata": {
      "needs_background": "light"
     },
     "output_type": "display_data"
    }
   ],
   "source": [
    "# Accuracy charts\n",
    "loss = history.history['accuracy']\n",
    "val_loss = history.history['val_accuracy']\n",
    "epochs = range(1, len(loss) +1)\n",
    "\n",
    "\n",
    "fig = plt.figure(figsize=(10,5))\n",
    "plt.plot(epochs, loss, 'y', label='Training acc')\n",
    "plt.plot(epochs, val_loss, 'r', label='Validation acc')\n",
    "plt.title('Training and validation accuracy')\n",
    "plt.xlabel('Epochs')\n",
    "plt.ylabel('Accuracy')\n",
    "plt.legend()\n",
    "plt.savefig('../data/images/charts/run10_training_val_acc.jpg')\n",
    "plt.show()"
   ]
  },
  {
   "cell_type": "code",
   "execution_count": 15,
   "id": "5e2355d7-a0e2-409d-8147-4d4b2aa243e0",
   "metadata": {},
   "outputs": [
    {
     "name": "stderr",
     "output_type": "stream",
     "text": [
      "WARNING:absl:Found untraced functions such as _jit_compiled_convolution_op, _jit_compiled_convolution_op, _jit_compiled_convolution_op, _jit_compiled_convolution_op, _update_step_xla while saving (showing 5 of 5). These functions will not be directly callable after loading.\n"
     ]
    },
    {
     "name": "stdout",
     "output_type": "stream",
     "text": [
      "INFO:tensorflow:Assets written to: ../data/models/sequential_run11_trained.sav\\assets\n"
     ]
    },
    {
     "name": "stderr",
     "output_type": "stream",
     "text": [
      "INFO:tensorflow:Assets written to: ../data/models/sequential_run11_trained.sav\\assets\n"
     ]
    }
   ],
   "source": [
    "model.save('../data/models/sequential_run11_trained.sav')"
   ]
  },
  {
   "cell_type": "markdown",
   "id": "77530b4e-827a-4dc5-974b-5a2dea420685",
   "metadata": {},
   "source": [
    "### Predict on test song"
   ]
  },
  {
   "cell_type": "code",
   "execution_count": 63,
   "id": "5f597e85-aeb3-4f57-b7b7-05884abb69f7",
   "metadata": {},
   "outputs": [],
   "source": [
    "test_path = '../data/test_sample/Annihilator_Kraign_spectro.png'\n",
    "test_batch = np.zeros((1, 1008, 360, 3))\n",
    "test_img = image.image_utils.load_img(test_path, target_size=(1008,360))\n",
    "test_batch[0, :] = test_img"
   ]
  },
  {
   "cell_type": "code",
   "execution_count": 73,
   "id": "a413e7f1-7c04-49b9-8f86-2003d0f693fb",
   "metadata": {},
   "outputs": [
    {
     "data": {
      "text/plain": [
       "array([[[[255., 255., 255.],\n",
       "         [255., 255., 255.],\n",
       "         [255., 255., 255.],\n",
       "         ...,\n",
       "         [255., 255., 255.],\n",
       "         [255., 255., 255.],\n",
       "         [255., 255., 255.]],\n",
       "\n",
       "        [[255., 255., 255.],\n",
       "         [255., 255., 255.],\n",
       "         [255., 255., 255.],\n",
       "         ...,\n",
       "         [255., 255., 255.],\n",
       "         [255., 255., 255.],\n",
       "         [255., 255., 255.]],\n",
       "\n",
       "        [[255., 255., 255.],\n",
       "         [255., 255., 255.],\n",
       "         [255., 255., 255.],\n",
       "         ...,\n",
       "         [255., 255., 255.],\n",
       "         [255., 255., 255.],\n",
       "         [255., 255., 255.]],\n",
       "\n",
       "        ...,\n",
       "\n",
       "        [[255., 255., 255.],\n",
       "         [255., 255., 255.],\n",
       "         [255., 255., 255.],\n",
       "         ...,\n",
       "         [255., 255., 255.],\n",
       "         [255., 255., 255.],\n",
       "         [255., 255., 255.]],\n",
       "\n",
       "        [[255., 255., 255.],\n",
       "         [255., 255., 255.],\n",
       "         [255., 255., 255.],\n",
       "         ...,\n",
       "         [255., 255., 255.],\n",
       "         [255., 255., 255.],\n",
       "         [255., 255., 255.]],\n",
       "\n",
       "        [[255., 255., 255.],\n",
       "         [255., 255., 255.],\n",
       "         [255., 255., 255.],\n",
       "         ...,\n",
       "         [255., 255., 255.],\n",
       "         [255., 255., 255.],\n",
       "         [255., 255., 255.]]]])"
      ]
     },
     "execution_count": 73,
     "metadata": {},
     "output_type": "execute_result"
    }
   ],
   "source": [
    "test_batch"
   ]
  },
  {
   "cell_type": "code",
   "execution_count": 79,
   "id": "21eb7588-ddfa-4bf9-9157-b599017f4ed0",
   "metadata": {},
   "outputs": [
    {
     "name": "stdout",
     "output_type": "stream",
     "text": [
      "1/1 [==============================] - 0s 56ms/step\n"
     ]
    }
   ],
   "source": [
    "yhat = model.predict(test_batch)"
   ]
  },
  {
   "cell_type": "code",
   "execution_count": 80,
   "id": "cf3439da-f15e-4da6-830e-b9650b2cedbd",
   "metadata": {},
   "outputs": [],
   "source": [
    "#round proba to class labels\n",
    "# yhat = yhat.round()"
   ]
  },
  {
   "cell_type": "code",
   "execution_count": 81,
   "id": "7c76d2f0-8dc1-45b0-91c6-800bbbf1b7c1",
   "metadata": {},
   "outputs": [
    {
     "data": {
      "text/plain": [
       "array([[0.38697365, 0.28262848, 0.3640558 , 0.32998917, 0.2796138 ,\n",
       "        0.32889223, 0.29140297, 0.3195205 , 0.28626963, 0.25361973,\n",
       "        0.26663285, 0.33460963, 0.31553108, 0.42264915, 0.4923118 ,\n",
       "        0.40214506, 0.337783  , 0.27308413, 0.33065724, 0.33817062,\n",
       "        0.29351127, 0.31908014, 0.3152651 , 0.35053134, 0.29863217,\n",
       "        0.27009377, 0.27663574]], dtype=float32)"
      ]
     },
     "execution_count": 81,
     "metadata": {},
     "output_type": "execute_result"
    }
   ],
   "source": [
    "yhat"
   ]
  },
  {
   "cell_type": "code",
   "execution_count": 82,
   "id": "ecc4009f-95d5-4977-b8f2-e8367721f540",
   "metadata": {},
   "outputs": [],
   "source": [
    "predict_data = pd.DataFrame(data=yhat, columns=y.columns)"
   ]
  },
  {
   "cell_type": "code",
   "execution_count": 84,
   "id": "9b40e787-e725-489e-9a41-8372a0e65cbb",
   "metadata": {},
   "outputs": [],
   "source": [
    "predict_pivot = predict_data.pivot_table(columns='Score')"
   ]
  },
  {
   "cell_type": "code",
   "execution_count": 87,
   "id": "27cc9ce5-97ed-408c-a8b1-7ec766f73ae2",
   "metadata": {},
   "outputs": [
    {
     "data": {
      "text/html": [
       "<div>\n",
       "<style scoped>\n",
       "    .dataframe tbody tr th:only-of-type {\n",
       "        vertical-align: middle;\n",
       "    }\n",
       "\n",
       "    .dataframe tbody tr th {\n",
       "        vertical-align: top;\n",
       "    }\n",
       "\n",
       "    .dataframe thead th {\n",
       "        text-align: right;\n",
       "    }\n",
       "</style>\n",
       "<table border=\"1\" class=\"dataframe\">\n",
       "  <thead>\n",
       "    <tr style=\"text-align: right;\">\n",
       "      <th></th>\n",
       "      <th>Score</th>\n",
       "    </tr>\n",
       "  </thead>\n",
       "  <tbody>\n",
       "    <tr>\n",
       "      <th>metal</th>\n",
       "      <td>0.492312</td>\n",
       "    </tr>\n",
       "    <tr>\n",
       "      <th>melodic</th>\n",
       "      <td>0.422649</td>\n",
       "    </tr>\n",
       "    <tr>\n",
       "      <th>metalcore</th>\n",
       "      <td>0.402145</td>\n",
       "    </tr>\n",
       "    <tr>\n",
       "      <th>alternative</th>\n",
       "      <td>0.386974</td>\n",
       "    </tr>\n",
       "    <tr>\n",
       "      <th>classic</th>\n",
       "      <td>0.364056</td>\n",
       "    </tr>\n",
       "    <tr>\n",
       "      <th>rock</th>\n",
       "      <td>0.350531</td>\n",
       "    </tr>\n",
       "    <tr>\n",
       "      <th>posthardcore</th>\n",
       "      <td>0.338171</td>\n",
       "    </tr>\n",
       "    <tr>\n",
       "      <th>modern</th>\n",
       "      <td>0.337783</td>\n",
       "    </tr>\n",
       "    <tr>\n",
       "      <th>hardcore</th>\n",
       "      <td>0.334610</td>\n",
       "    </tr>\n",
       "    <tr>\n",
       "      <th>postgrunge</th>\n",
       "      <td>0.330657</td>\n",
       "    </tr>\n",
       "    <tr>\n",
       "      <th>death</th>\n",
       "      <td>0.329989</td>\n",
       "    </tr>\n",
       "    <tr>\n",
       "      <th>djent</th>\n",
       "      <td>0.328892</td>\n",
       "    </tr>\n",
       "    <tr>\n",
       "      <th>folk</th>\n",
       "      <td>0.319521</td>\n",
       "    </tr>\n",
       "    <tr>\n",
       "      <th>progressive</th>\n",
       "      <td>0.319080</td>\n",
       "    </tr>\n",
       "    <tr>\n",
       "      <th>heavy</th>\n",
       "      <td>0.315531</td>\n",
       "    </tr>\n",
       "    <tr>\n",
       "      <th>punk</th>\n",
       "      <td>0.315265</td>\n",
       "    </tr>\n",
       "    <tr>\n",
       "      <th>symphonic</th>\n",
       "      <td>0.298632</td>\n",
       "    </tr>\n",
       "    <tr>\n",
       "      <th>power</th>\n",
       "      <td>0.293511</td>\n",
       "    </tr>\n",
       "    <tr>\n",
       "      <th>electronic</th>\n",
       "      <td>0.291403</td>\n",
       "    </tr>\n",
       "    <tr>\n",
       "      <th>gothic</th>\n",
       "      <td>0.286270</td>\n",
       "    </tr>\n",
       "    <tr>\n",
       "      <th>black</th>\n",
       "      <td>0.282628</td>\n",
       "    </tr>\n",
       "    <tr>\n",
       "      <th>deathcore</th>\n",
       "      <td>0.279614</td>\n",
       "    </tr>\n",
       "    <tr>\n",
       "      <th>thrash</th>\n",
       "      <td>0.276636</td>\n",
       "    </tr>\n",
       "    <tr>\n",
       "      <th>nu</th>\n",
       "      <td>0.273084</td>\n",
       "    </tr>\n",
       "    <tr>\n",
       "      <th>technical</th>\n",
       "      <td>0.270094</td>\n",
       "    </tr>\n",
       "    <tr>\n",
       "      <th>hard</th>\n",
       "      <td>0.266633</td>\n",
       "    </tr>\n",
       "    <tr>\n",
       "      <th>groove</th>\n",
       "      <td>0.253620</td>\n",
       "    </tr>\n",
       "  </tbody>\n",
       "</table>\n",
       "</div>"
      ],
      "text/plain": [
       "                 Score\n",
       "metal         0.492312\n",
       "melodic       0.422649\n",
       "metalcore     0.402145\n",
       "alternative   0.386974\n",
       "classic       0.364056\n",
       "rock          0.350531\n",
       "posthardcore  0.338171\n",
       "modern        0.337783\n",
       "hardcore      0.334610\n",
       "postgrunge    0.330657\n",
       "death         0.329989\n",
       "djent         0.328892\n",
       "folk          0.319521\n",
       "progressive   0.319080\n",
       "heavy         0.315531\n",
       "punk          0.315265\n",
       "symphonic     0.298632\n",
       "power         0.293511\n",
       "electronic    0.291403\n",
       "gothic        0.286270\n",
       "black         0.282628\n",
       "deathcore     0.279614\n",
       "thrash        0.276636\n",
       "nu            0.273084\n",
       "technical     0.270094\n",
       "hard          0.266633\n",
       "groove        0.253620"
      ]
     },
     "execution_count": 87,
     "metadata": {},
     "output_type": "execute_result"
    }
   ],
   "source": [
    "predict_pivot.sort_values('Score', ascending=False)"
   ]
  },
  {
   "cell_type": "code",
   "execution_count": null,
   "id": "7b201acc-aada-4d97-9168-416e2b251ad0",
   "metadata": {},
   "outputs": [],
   "source": []
  }
 ],
 "metadata": {
  "kernelspec": {
   "display_name": "Python 3 (ipykernel)",
   "language": "python",
   "name": "python3"
  },
  "language_info": {
   "codemirror_mode": {
    "name": "ipython",
    "version": 3
   },
   "file_extension": ".py",
   "mimetype": "text/x-python",
   "name": "python",
   "nbconvert_exporter": "python",
   "pygments_lexer": "ipython3",
   "version": "3.9.7"
  }
 },
 "nbformat": 4,
 "nbformat_minor": 5
}
