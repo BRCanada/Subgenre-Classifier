{
 "cells": [
  {
   "cell_type": "code",
   "execution_count": 1,
   "id": "8f9f98ec-bacf-49af-8e42-ec2f763ffbc7",
   "metadata": {},
   "outputs": [],
   "source": [
    "#Import sys for path adjustment\n",
    "import sys\n",
    "sys.path.append('../')\n",
    "\n",
    "#keras packages\n",
    "import keras\n",
    "from keras.preprocessing import image\n",
    "\n",
    "#Dataframes and arrays\n",
    "import numpy as np\n",
    "import pandas as pd\n",
    "\n",
    "#dataviz\n",
    "import matplotlib.pyplot as plt\n",
    "%matplotlib inline"
   ]
  },
  {
   "cell_type": "code",
   "execution_count": 2,
   "id": "46bb15be-93e2-4b14-89e2-9b3e185b4906",
   "metadata": {},
   "outputs": [],
   "source": [
    "columns = ['alternative', 'black', 'classic', 'death', 'deathcore', 'djent',\n",
    "       'electronic', 'folk', 'gothic', 'groove', 'hard', 'hardcore', 'heavy',\n",
    "       'melodic', 'metal', 'metalcore', 'modern', 'nu', 'postgrunge',\n",
    "       'posthardcore', 'power', 'progressive', 'punk', 'rock', 'symphonic',\n",
    "       'technical', 'thrash']"
   ]
  },
  {
   "cell_type": "code",
   "execution_count": 3,
   "id": "5e2b7459-430e-44d3-84a5-1744c061ee4a",
   "metadata": {},
   "outputs": [],
   "source": [
    "model = keras.models.load_model('../data/models/sequential_run10_trained.sav/')"
   ]
  },
  {
   "cell_type": "code",
   "execution_count": 16,
   "id": "193a3ce3-e5fd-448a-b205-63e40a66d152",
   "metadata": {},
   "outputs": [
    {
     "data": {
      "text/plain": [
       "(1, 1008, 360, 3)"
      ]
     },
     "execution_count": 16,
     "metadata": {},
     "output_type": "execute_result"
    },
    {
     "data": {
      "image/png": "[encoded data removed]",
      "text/plain": [
       "<Figure size 432x288 with 1 Axes>"
      ]
     },
     "metadata": {
      "needs_background": "light"
     },
     "output_type": "display_data"
    }
   ],
   "source": [
    "test_path = '../data/test_sample/Annihilator_Kraign_spectro.png'\n",
    "test_img = image.image_utils.load_img(test_path, target_size=(1008,360, 3))\n",
    "test_img = image.image_utils.img_to_array(test_img)\n",
    "test_img = test_img/255\n",
    "plt.imshow(test_img)\n",
    "test_img = np.expand_dims(test_img, axis=0)\n",
    "test_img.shape"
   ]
  },
  {
   "cell_type": "code",
   "execution_count": 17,
   "id": "da21c186-3e12-4847-8ae1-130ceecc1aac",
   "metadata": {},
   "outputs": [
    {
     "name": "stdout",
     "output_type": "stream",
     "text": [
      "1/1 [==============================] - 0s 62ms/step\n"
     ]
    }
   ],
   "source": [
    "yhat = model.predict(test_img)"
   ]
  },
  {
   "cell_type": "code",
   "execution_count": 18,
   "id": "ffa218b2-ed2c-4829-90dd-b898d8e2496a",
   "metadata": {},
   "outputs": [
    {
     "data": {
      "text/plain": [
       "array([[0.5158616 , 0.8068539 , 0.708043  , 0.01328446, 0.29517442,\n",
       "        0.3968625 , 0.05256779, 0.13892496, 0.2334953 , 0.6972037 ,\n",
       "        0.880721  , 0.0200089 , 0.77946013, 0.9480051 , 0.39128405,\n",
       "        0.53359956, 0.1967985 , 0.12865308, 0.7636165 , 0.03614266,\n",
       "        0.27818677, 0.3712918 , 0.602091  , 0.29947287, 0.12423959,\n",
       "        0.9108657 , 0.6097533 ]], dtype=float32)"
      ]
     },
     "execution_count": 18,
     "metadata": {},
     "output_type": "execute_result"
    }
   ],
   "source": [
    "yhat"
   ]
  },
  {
   "cell_type": "code",
   "execution_count": 19,
   "id": "474812d7-898b-4114-9c07-0f9de2c6fa2d",
   "metadata": {},
   "outputs": [],
   "source": [
    "predict_data = pd.DataFrame(data=np.round_(yhat*100, decimals=2), columns=columns)"
   ]
  },
  {
   "cell_type": "code",
   "execution_count": 20,
   "id": "fc307147-1d2a-4ebd-bf97-7a68999d661d",
   "metadata": {},
   "outputs": [],
   "source": [
    "predict_pivot = predict_data.pivot_table(columns='Score')"
   ]
  },
  {
   "cell_type": "code",
   "execution_count": 21,
   "id": "fc681cf8-e67f-48de-b518-5bc1b7dc6c0d",
   "metadata": {},
   "outputs": [
    {
     "data": {
      "text/html": [
       "<div>\n",
       "<style scoped>\n",
       "    .dataframe tbody tr th:only-of-type {\n",
       "        vertical-align: middle;\n",
       "    }\n",
       "\n",
       "    .dataframe tbody tr th {\n",
       "        vertical-align: top;\n",
       "    }\n",
       "\n",
       "    .dataframe thead th {\n",
       "        text-align: right;\n",
       "    }\n",
       "</style>\n",
       "<table border=\"1\" class=\"dataframe\">\n",
       "  <thead>\n",
       "    <tr style=\"text-align: right;\">\n",
       "      <th></th>\n",
       "      <th>Score</th>\n",
       "    </tr>\n",
       "  </thead>\n",
       "  <tbody>\n",
       "    <tr>\n",
       "      <th>melodic</th>\n",
       "      <td>94.800003</td>\n",
       "    </tr>\n",
       "    <tr>\n",
       "      <th>technical</th>\n",
       "      <td>91.089996</td>\n",
       "    </tr>\n",
       "    <tr>\n",
       "      <th>hard</th>\n",
       "      <td>88.070000</td>\n",
       "    </tr>\n",
       "    <tr>\n",
       "      <th>black</th>\n",
       "      <td>80.690002</td>\n",
       "    </tr>\n",
       "    <tr>\n",
       "      <th>heavy</th>\n",
       "      <td>77.949997</td>\n",
       "    </tr>\n",
       "    <tr>\n",
       "      <th>postgrunge</th>\n",
       "      <td>76.360001</td>\n",
       "    </tr>\n",
       "    <tr>\n",
       "      <th>classic</th>\n",
       "      <td>70.800003</td>\n",
       "    </tr>\n",
       "    <tr>\n",
       "      <th>groove</th>\n",
       "      <td>69.720001</td>\n",
       "    </tr>\n",
       "    <tr>\n",
       "      <th>thrash</th>\n",
       "      <td>60.980000</td>\n",
       "    </tr>\n",
       "    <tr>\n",
       "      <th>punk</th>\n",
       "      <td>60.209999</td>\n",
       "    </tr>\n",
       "    <tr>\n",
       "      <th>metalcore</th>\n",
       "      <td>53.360001</td>\n",
       "    </tr>\n",
       "    <tr>\n",
       "      <th>alternative</th>\n",
       "      <td>51.590000</td>\n",
       "    </tr>\n",
       "    <tr>\n",
       "      <th>djent</th>\n",
       "      <td>39.689999</td>\n",
       "    </tr>\n",
       "    <tr>\n",
       "      <th>metal</th>\n",
       "      <td>39.130001</td>\n",
       "    </tr>\n",
       "    <tr>\n",
       "      <th>progressive</th>\n",
       "      <td>37.130001</td>\n",
       "    </tr>\n",
       "    <tr>\n",
       "      <th>rock</th>\n",
       "      <td>29.950001</td>\n",
       "    </tr>\n",
       "    <tr>\n",
       "      <th>deathcore</th>\n",
       "      <td>29.520000</td>\n",
       "    </tr>\n",
       "    <tr>\n",
       "      <th>power</th>\n",
       "      <td>27.820000</td>\n",
       "    </tr>\n",
       "    <tr>\n",
       "      <th>gothic</th>\n",
       "      <td>23.350000</td>\n",
       "    </tr>\n",
       "    <tr>\n",
       "      <th>modern</th>\n",
       "      <td>19.680000</td>\n",
       "    </tr>\n",
       "    <tr>\n",
       "      <th>folk</th>\n",
       "      <td>13.890000</td>\n",
       "    </tr>\n",
       "    <tr>\n",
       "      <th>nu</th>\n",
       "      <td>12.870000</td>\n",
       "    </tr>\n",
       "    <tr>\n",
       "      <th>symphonic</th>\n",
       "      <td>12.420000</td>\n",
       "    </tr>\n",
       "    <tr>\n",
       "      <th>electronic</th>\n",
       "      <td>5.260000</td>\n",
       "    </tr>\n",
       "    <tr>\n",
       "      <th>posthardcore</th>\n",
       "      <td>3.610000</td>\n",
       "    </tr>\n",
       "    <tr>\n",
       "      <th>hardcore</th>\n",
       "      <td>2.000000</td>\n",
       "    </tr>\n",
       "    <tr>\n",
       "      <th>death</th>\n",
       "      <td>1.330000</td>\n",
       "    </tr>\n",
       "  </tbody>\n",
       "</table>\n",
       "</div>"
      ],
      "text/plain": [
       "                  Score\n",
       "melodic       94.800003\n",
       "technical     91.089996\n",
       "hard          88.070000\n",
       "black         80.690002\n",
       "heavy         77.949997\n",
       "postgrunge    76.360001\n",
       "classic       70.800003\n",
       "groove        69.720001\n",
       "thrash        60.980000\n",
       "punk          60.209999\n",
       "metalcore     53.360001\n",
       "alternative   51.590000\n",
       "djent         39.689999\n",
       "metal         39.130001\n",
       "progressive   37.130001\n",
       "rock          29.950001\n",
       "deathcore     29.520000\n",
       "power         27.820000\n",
       "gothic        23.350000\n",
       "modern        19.680000\n",
       "folk          13.890000\n",
       "nu            12.870000\n",
       "symphonic     12.420000\n",
       "electronic     5.260000\n",
       "posthardcore   3.610000\n",
       "hardcore       2.000000\n",
       "death          1.330000"
      ]
     },
     "execution_count": 21,
     "metadata": {},
     "output_type": "execute_result"
    }
   ],
   "source": [
    "predict_pivot.sort_values('Score', ascending=False)"
   ]
  }
 ],
 "metadata": {
  "kernelspec": {
   "display_name": "Python 3 (ipykernel)",
   "language": "python",
   "name": "python3"
  },
  "language_info": {
   "codemirror_mode": {
    "name": "ipython",
    "version": 3
   },
   "file_extension": ".py",
   "mimetype": "text/x-python",
   "name": "python",
   "nbconvert_exporter": "python",
   "pygments_lexer": "ipython3",
   "version": "3.9.7"
  }
 },
 "nbformat": 4,
 "nbformat_minor": 5
}
